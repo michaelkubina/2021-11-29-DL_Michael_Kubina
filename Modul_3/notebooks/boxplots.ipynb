{
 "cells": [
  {
   "cell_type": "code",
   "execution_count": null,
   "metadata": {},
   "outputs": [],
   "source": [
    "import seaborn as sns\n",
    "import matplotlib.pyplot as plt\n",
    "sns.set()\n",
    "\n",
    "import pandas as pd\n",
    "\n",
    "df = pd.read_csv(\"../data/Library_Usage.csv\")\n",
    "df = df[df['Total Checkouts'] < 816]\n",
    "plt.figure(figsize=(16, 6))\n",
    "plt = sns.boxplot(y='Total Checkouts', x='Year Patron Registered', data=df, fliersize=0.5, whis=1.5)\n",
    "plt.get_figure().savefig(\"boxplots.png\")"
   ]
  }
 ],
 "metadata": {
  "kernelspec": {
   "display_name": "Python 3",
   "language": "python",
   "name": "python3"
  },
  "language_info": {
   "codemirror_mode": {
    "name": "ipython",
    "version": 3
   },
   "file_extension": ".py",
   "mimetype": "text/x-python",
   "name": "python",
   "nbconvert_exporter": "python",
   "pygments_lexer": "ipython3",
   "version": "3.7.4"
  }
 },
 "nbformat": 4,
 "nbformat_minor": 2
}
