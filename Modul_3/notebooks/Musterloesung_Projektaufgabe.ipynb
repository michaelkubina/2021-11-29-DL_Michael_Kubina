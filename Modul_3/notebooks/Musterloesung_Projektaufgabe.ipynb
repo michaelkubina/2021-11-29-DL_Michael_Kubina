{
 "cells": [
  {
   "cell_type": "markdown",
   "metadata": {},
   "source": [
    "## Musterlösung zu Projektaufgabe Deskriptive Statistik und offene Fragen\n",
    "\n"
   ]
  },
  {
   "cell_type": "markdown",
   "metadata": {},
   "source": [
    "#### Grundlage: Datensatz der San Francisco Public Library, s.a. https://zbmed.github.io/2020-2021-ZK_Data_Librarian_Modul_3/organisation/dataset/"
   ]
  },
  {
   "cell_type": "markdown",
   "metadata": {},
   "source": [
    "##### Frage 1: Wie viele Senioren und Kinder sind Kunden der San Francisco Public Library?"
   ]
  },
  {
   "cell_type": "markdown",
   "metadata": {},
   "source": [
    "##### Frage 2: Wie viele Nutzer möchten per Mail informiert werden?"
   ]
  },
  {
   "cell_type": "markdown",
   "metadata": {},
   "source": [
    "##### Frage 3: Wie alt sind diese Nutzer durchschnittlich im Vergleich zu Nutzern, die per Post informiert werden möchten?"
   ]
  },
  {
   "cell_type": "markdown",
   "metadata": {},
   "source": [
    "##### Frage 4: Wie viele Ausleihen werden im Mittel pro Altersgruppe und pro Jahr getätigt? Ist die Streuung zwischen den Gruppen gleich?"
   ]
  },
  {
   "cell_type": "markdown",
   "metadata": {},
   "source": [
    "##### Frage 5: Welche Altersgruppe verlängert im Mittel wie oft?"
   ]
  },
  {
   "cell_type": "markdown",
   "metadata": {},
   "source": [
    "##### Frage 6: Wie ist die Verteilung der Altersgruppen im Mission District"
   ]
  },
  {
   "cell_type": "markdown",
   "metadata": {},
   "source": [
    "##### Frage 7: Erklärung von Normalisierung von Kreuztabellen (Kapitel 3 im Skript)"
   ]
  },
  {
   "cell_type": "code",
   "execution_count": 1,
   "metadata": {},
   "outputs": [],
   "source": [
    "import pandas as pd\n",
    "import matplotlib.pyplot as plt\n",
    "import seaborn as sns\n",
    "import numpy as np\n",
    "%matplotlib inline\n",
    "sns.set()\n",
    "# das was wir brauchen in abgekürzter Form"
   ]
  },
  {
   "cell_type": "code",
   "execution_count": 2,
   "metadata": {},
   "outputs": [],
   "source": [
    "df = pd.read_csv(\n",
    "    \"../data/Library_Usage.csv\",\n",
    "    na_values=\"none\"\n",
    ")\n",
    "# Einlesen des Datensatzes in das neu definierte DataFrame df mit Überschreibung \n",
    "#fehlender Werte"
   ]
  },
  {
   "cell_type": "code",
   "execution_count": 3,
   "metadata": {},
   "outputs": [
    {
     "data": {
      "text/html": [
       "<div>\n",
       "<style scoped>\n",
       "    .dataframe tbody tr th:only-of-type {\n",
       "        vertical-align: middle;\n",
       "    }\n",
       "\n",
       "    .dataframe tbody tr th {\n",
       "        vertical-align: top;\n",
       "    }\n",
       "\n",
       "    .dataframe thead th {\n",
       "        text-align: right;\n",
       "    }\n",
       "</style>\n",
       "<table border=\"1\" class=\"dataframe\">\n",
       "  <thead>\n",
       "    <tr style=\"text-align: right;\">\n",
       "      <th></th>\n",
       "      <th>Patron Type Code</th>\n",
       "      <th>Patron Type Definition</th>\n",
       "      <th>Total Checkouts</th>\n",
       "      <th>Total Renewals</th>\n",
       "      <th>Age Range</th>\n",
       "      <th>Home Library Code</th>\n",
       "      <th>Home Library Definition</th>\n",
       "      <th>Circulation Active Month</th>\n",
       "      <th>Circulation Active Year</th>\n",
       "      <th>Notice Preference Code</th>\n",
       "      <th>Notice Preference Definition</th>\n",
       "      <th>Provided Email Address</th>\n",
       "      <th>Year Patron Registered</th>\n",
       "      <th>Outside of County</th>\n",
       "      <th>Supervisor District</th>\n",
       "    </tr>\n",
       "  </thead>\n",
       "  <tbody>\n",
       "    <tr>\n",
       "      <th>0</th>\n",
       "      <td>0</td>\n",
       "      <td>ADULT</td>\n",
       "      <td>0</td>\n",
       "      <td>0</td>\n",
       "      <td>20 to 24 years</td>\n",
       "      <td>P1</td>\n",
       "      <td>Park</td>\n",
       "      <td>None</td>\n",
       "      <td>None</td>\n",
       "      <td>z</td>\n",
       "      <td>email</td>\n",
       "      <td>True</td>\n",
       "      <td>2014</td>\n",
       "      <td>False</td>\n",
       "      <td>5.0</td>\n",
       "    </tr>\n",
       "    <tr>\n",
       "      <th>1</th>\n",
       "      <td>0</td>\n",
       "      <td>ADULT</td>\n",
       "      <td>31</td>\n",
       "      <td>22</td>\n",
       "      <td>25 to 34 years</td>\n",
       "      <td>S7</td>\n",
       "      <td>Sunset</td>\n",
       "      <td>April</td>\n",
       "      <td>2016</td>\n",
       "      <td>z</td>\n",
       "      <td>email</td>\n",
       "      <td>True</td>\n",
       "      <td>2010</td>\n",
       "      <td>False</td>\n",
       "      <td>4.0</td>\n",
       "    </tr>\n",
       "    <tr>\n",
       "      <th>2</th>\n",
       "      <td>0</td>\n",
       "      <td>ADULT</td>\n",
       "      <td>0</td>\n",
       "      <td>0</td>\n",
       "      <td>45 to 54 years</td>\n",
       "      <td>P1</td>\n",
       "      <td>Park</td>\n",
       "      <td>None</td>\n",
       "      <td>None</td>\n",
       "      <td>a</td>\n",
       "      <td>print</td>\n",
       "      <td>False</td>\n",
       "      <td>2016</td>\n",
       "      <td>True</td>\n",
       "      <td>NaN</td>\n",
       "    </tr>\n",
       "    <tr>\n",
       "      <th>3</th>\n",
       "      <td>0</td>\n",
       "      <td>ADULT</td>\n",
       "      <td>0</td>\n",
       "      <td>0</td>\n",
       "      <td>25 to 34 years</td>\n",
       "      <td>X</td>\n",
       "      <td>Main Library</td>\n",
       "      <td>None</td>\n",
       "      <td>None</td>\n",
       "      <td>z</td>\n",
       "      <td>email</td>\n",
       "      <td>True</td>\n",
       "      <td>2015</td>\n",
       "      <td>False</td>\n",
       "      <td>3.0</td>\n",
       "    </tr>\n",
       "    <tr>\n",
       "      <th>4</th>\n",
       "      <td>0</td>\n",
       "      <td>ADULT</td>\n",
       "      <td>126</td>\n",
       "      <td>11</td>\n",
       "      <td>45 to 54 years</td>\n",
       "      <td>M2</td>\n",
       "      <td>Marina</td>\n",
       "      <td>January</td>\n",
       "      <td>2016</td>\n",
       "      <td>z</td>\n",
       "      <td>email</td>\n",
       "      <td>True</td>\n",
       "      <td>2003</td>\n",
       "      <td>False</td>\n",
       "      <td>2.0</td>\n",
       "    </tr>\n",
       "  </tbody>\n",
       "</table>\n",
       "</div>"
      ],
      "text/plain": [
       "   Patron Type Code Patron Type Definition  Total Checkouts  Total Renewals  \\\n",
       "0                 0                  ADULT                0               0   \n",
       "1                 0                  ADULT               31              22   \n",
       "2                 0                  ADULT                0               0   \n",
       "3                 0                  ADULT                0               0   \n",
       "4                 0                  ADULT              126              11   \n",
       "\n",
       "        Age Range Home Library Code Home Library Definition  \\\n",
       "0  20 to 24 years                P1                    Park   \n",
       "1  25 to 34 years                S7                  Sunset   \n",
       "2  45 to 54 years                P1                    Park   \n",
       "3  25 to 34 years                 X            Main Library   \n",
       "4  45 to 54 years                M2                  Marina   \n",
       "\n",
       "  Circulation Active Month Circulation Active Year Notice Preference Code  \\\n",
       "0                     None                    None                      z   \n",
       "1                    April                    2016                      z   \n",
       "2                     None                    None                      a   \n",
       "3                     None                    None                      z   \n",
       "4                  January                    2016                      z   \n",
       "\n",
       "  Notice Preference Definition  Provided Email Address  \\\n",
       "0                        email                    True   \n",
       "1                        email                    True   \n",
       "2                        print                   False   \n",
       "3                        email                    True   \n",
       "4                        email                    True   \n",
       "\n",
       "   Year Patron Registered  Outside of County  Supervisor District  \n",
       "0                    2014              False                  5.0  \n",
       "1                    2010              False                  4.0  \n",
       "2                    2016               True                  NaN  \n",
       "3                    2015              False                  3.0  \n",
       "4                    2003              False                  2.0  "
      ]
     },
     "execution_count": 3,
     "metadata": {},
     "output_type": "execute_result"
    }
   ],
   "source": [
    "#df\n",
    "df.head()\n",
    "#Überblick über das DataFrame"
   ]
  },
  {
   "cell_type": "markdown",
   "metadata": {},
   "source": [
    "# Frage 1: Wie viele Senioren und Kinder sind Kunden der San Francisco Public Library?"
   ]
  },
  {
   "cell_type": "markdown",
   "metadata": {},
   "source": [
    "Um diese Frage zu beantworten, kommen die Spalten \"Patron Type Definition\" oder \"Age Range\" in Frage, also schauen wir uns die Einträge (Merkmalsausprägungen) an: "
   ]
  },
  {
   "cell_type": "code",
   "execution_count": 4,
   "metadata": {},
   "outputs": [
    {
     "data": {
      "text/plain": [
       "ADULT                  272251\n",
       "JUVENILE                59208\n",
       "SENIOR                  41619\n",
       "YOUNG ADULT             28816\n",
       "WELCOME                 14931\n",
       "TEACHER CARD             1782\n",
       "DIGITAL ACCESS CARD      1744\n",
       "SPECIAL                   977\n",
       "STAFF                     862\n",
       "VISITOR                   415\n",
       "AT USER ADULT             349\n",
       "RETIRED STAFF             157\n",
       "BOOKS BY MAIL              95\n",
       "AT USER SENIOR             66\n",
       "AT USER JUVENILE           47\n",
       "AT USER WELCOME            45\n",
       "AT USER TEEN               44\n",
       "FRIENDS FOR LIFE           40\n",
       "Name: Patron Type Definition, dtype: int64"
      ]
     },
     "execution_count": 4,
     "metadata": {},
     "output_type": "execute_result"
    }
   ],
   "source": [
    "df['Patron Type Definition'].value_counts()"
   ]
  },
  {
   "cell_type": "markdown",
   "metadata": {},
   "source": [
    "Man sieht, dass es sich um nominale Werte handelt."
   ]
  },
  {
   "cell_type": "code",
   "execution_count": 5,
   "metadata": {},
   "outputs": [
    {
     "data": {
      "text/plain": [
       "25 to 34 years       91083\n",
       "35 to 44 years       67390\n",
       "10 to 19 years       58944\n",
       "45 to 54 years       52492\n",
       "0 to 9 years         38242\n",
       "65 to 74 years       30141\n",
       "20 to 24 years       29761\n",
       "55 to 59 years       21230\n",
       "60 to 64 years       19800\n",
       "75 years and over    14150\n",
       "Name: Age Range, dtype: int64"
      ]
     },
     "execution_count": 5,
     "metadata": {},
     "output_type": "execute_result"
    }
   ],
   "source": [
    "df['Age Range'].value_counts()"
   ]
  },
  {
   "cell_type": "markdown",
   "metadata": {},
   "source": [
    "Man sieht, dass es sich um ordinale Werte handelt."
   ]
  },
  {
   "cell_type": "markdown",
   "metadata": {},
   "source": [
    "In der Beschreibung des Datensatzes steht, dass sich die Spalte 'Age Range' nach dem Geburtsdatum richtet. D.h. es ist davon auszugehen, dass die Nutzer der Bibliothek zum Zeitpunkt der Bereitstellung des Datensatzes (2016) in die Kategorien von 'Age Range' einsortiert werden. In der Spalte 'Patron Type Definition' sind verschiedene Merkmalsausprägungen zu finden, die nicht unbedingt etwas mit dem Alter zu tun haben (z.B. VISITOR oder SPECIAL). Daher ist davon auszugehen, dass wir mit 'Age Range' am nähesten Fragestellungen zu Alter beantworten zu können. Richtige Angaben zu tatsächlichem Alter der Nutzer liegen bei diesem Datensatz nicht vor."
   ]
  },
  {
   "cell_type": "markdown",
   "metadata": {},
   "source": [
    "An dieser Stelle ist also zu definieren, was Senioren und Kinder sind. Eine Möglichkeit ist, Senioren als Age Range = 65 to 74 years und Age Range = 75 years and over zu definieren, man könnte aber auch Age Range = 60 to 64 years dazunehmen. Für das weitere Vorgehen, definieren wir Senioren als über 65-jährige und Kinder als bis 19-jährige. Um die Frage 1 zu beantworten, reicht es also, die entsprechenden Einträge zu summieren."
   ]
  },
  {
   "cell_type": "code",
   "execution_count": 6,
   "metadata": {},
   "outputs": [],
   "source": [
    "kinder=df.loc[df['Age Range'] == \"0 to 9 years\"] #Hilfsvariable"
   ]
  },
  {
   "cell_type": "code",
   "execution_count": 7,
   "metadata": {},
   "outputs": [
    {
     "data": {
      "text/plain": [
       "38242"
      ]
     },
     "execution_count": 7,
     "metadata": {},
     "output_type": "execute_result"
    }
   ],
   "source": [
    "len(kinder) "
   ]
  },
  {
   "cell_type": "code",
   "execution_count": 8,
   "metadata": {},
   "outputs": [],
   "source": [
    "senioren=df.loc[\n",
    "    (df['Age Range'] == \"65 to 74 years\") | \n",
    "    (df['Age Range'] == \"75 years and over\")\n",
    "] \n",
    "#Hilfsvariable\n"
   ]
  },
  {
   "cell_type": "code",
   "execution_count": 9,
   "metadata": {},
   "outputs": [
    {
     "data": {
      "text/plain": [
       "44291"
      ]
     },
     "execution_count": 9,
     "metadata": {},
     "output_type": "execute_result"
    }
   ],
   "source": [
    "len(senioren)"
   ]
  },
  {
   "cell_type": "markdown",
   "metadata": {},
   "source": [
    "# Antwort auf Frage 1:"
   ]
  },
  {
   "cell_type": "code",
   "execution_count": 10,
   "metadata": {},
   "outputs": [
    {
     "name": "stdout",
     "output_type": "stream",
     "text": [
      "Es sind 38242 Kinder (bis 19 Jahre) und 44291 Senioren (ab 65 Jahren) registriert.\n"
     ]
    }
   ],
   "source": [
    "print('Es sind ' + str(len(kinder)) + ' Kinder (bis 19 Jahre) und ' + str(len(senioren)) + ' Senioren (ab 65 Jahren) registriert.' )\n"
   ]
  },
  {
   "cell_type": "markdown",
   "metadata": {},
   "source": [
    "-----"
   ]
  },
  {
   "cell_type": "markdown",
   "metadata": {},
   "source": [
    "# Frage 2: Wie viele Nutzer möchten per Mail informiert werden?"
   ]
  },
  {
   "cell_type": "code",
   "execution_count": 11,
   "metadata": {},
   "outputs": [
    {
     "data": {
      "text/plain": [
       "323937"
      ]
     },
     "execution_count": 11,
     "metadata": {},
     "output_type": "execute_result"
    }
   ],
   "source": [
    "len(df.loc[(df['Notice Preference Definition'] == \"email\")])"
   ]
  },
  {
   "cell_type": "markdown",
   "metadata": {},
   "source": [
    "# Antwort auf Frage 2:"
   ]
  },
  {
   "cell_type": "code",
   "execution_count": 12,
   "metadata": {},
   "outputs": [
    {
     "name": "stdout",
     "output_type": "stream",
     "text": [
      "323937 Nutzer möchten per Mail informiert werden.\n"
     ]
    }
   ],
   "source": [
    "print(str(len(df.loc[(df['Notice Preference Definition'] == \"email\")])) + ' Nutzer möchten per Mail informiert werden.')"
   ]
  },
  {
   "cell_type": "markdown",
   "metadata": {},
   "source": [
    "# Frage 3: Wie alt sind diese Nutzer durchschnittlich im Vergleich zu Nutzern, die per Post informiert werden möchten?"
   ]
  },
  {
   "cell_type": "markdown",
   "metadata": {},
   "source": [
    "Die relevante Spalte über die gewünschte Benachrichtigungsart schauen wir uns genauer an:"
   ]
  },
  {
   "cell_type": "code",
   "execution_count": 13,
   "metadata": {},
   "outputs": [
    {
     "data": {
      "text/plain": [
       "email    323937\n",
       "phone     68172\n",
       "print     31336\n",
       "Name: Notice Preference Definition, dtype: int64"
      ]
     },
     "execution_count": 13,
     "metadata": {},
     "output_type": "execute_result"
    }
   ],
   "source": [
    "df['Notice Preference Definition'].value_counts()"
   ]
  },
  {
   "cell_type": "markdown",
   "metadata": {},
   "source": [
    "Es handelt sich um ein nominales Merkmal."
   ]
  },
  {
   "cell_type": "markdown",
   "metadata": {},
   "source": [
    "Auch hier stoßen wir auf eine Interpretationsfrage. Da der Datensatz kein Alter ausgibt, sondern nur Altersstufen (Age Range) bzw. Kategorien, die nicht immer etwas mit dem Alter zu tun haben sondern eher mit dem Nutzerstatus (Patron Type Definition), müssen wir überlegen, was ein Durchschnitt bedeuten kann. Age Range ist ein ordinales Merkmal, d.h. wir können keinen Erwartungswert berechnen, aber uns dennoch Häufigkeitstabellen anschauen."
   ]
  },
  {
   "cell_type": "markdown",
   "metadata": {},
   "source": [
    "Um diese beiden Merkmale (nominal und ordinal) zu verbinden, können wir uns einen Plot angucken, dafür definieren wir eine neue Variable indem wir nach den Merkmalen filtern, die uns interessieren:"
   ]
  },
  {
   "cell_type": "code",
   "execution_count": 14,
   "metadata": {},
   "outputs": [],
   "source": [
    "benachrichtigung=df.loc[\n",
    "    (df['Notice Preference Definition'] == \"email\") | \n",
    "    (df['Notice Preference Definition'] == \"print\")\n",
    "] #Hilfsvariable für den Plot, damit nur die Merkmale 'email' und 'print' angezeigt werden"
   ]
  },
  {
   "cell_type": "code",
   "execution_count": 15,
   "metadata": {},
   "outputs": [
    {
     "data": {
      "text/plain": [
       "<seaborn.axisgrid.FacetGrid at 0x7fa8ddae83d0>"
      ]
     },
     "execution_count": 15,
     "metadata": {},
     "output_type": "execute_result"
    },
    {
     "data": {
      "image/png": "[encoded data removed]",
      "text/plain": [
       "<Figure size 1238.3x360 with 1 Axes>"
      ]
     },
     "metadata": {},
     "output_type": "display_data"
    }
   ],
   "source": [
    "sns.catplot(x='Age Range', kind='count', hue='Notice Preference Definition', data=benachrichtigung, aspect=3, order=[\"0 to 9 years\",\"10 to 19 years\",\"20 to 24 years\",\"25 to 34 years\",\"35 to 44 years\",\"45 to 54 years\",\"55 to 59 years\",\"60 to 64 years\",\"65 to 74 years\",\"75 years and over\"])\n",
    "#wenn data=df gewählt wird, würden wir auch die Werte für 'print' sehen"
   ]
  },
  {
   "cell_type": "markdown",
   "metadata": {},
   "source": [
    "Um besser die Zahlen zu verstehen, hilft uns eine Kreuztabelle:"
   ]
  },
  {
   "cell_type": "code",
   "execution_count": 16,
   "metadata": {},
   "outputs": [
    {
     "data": {
      "text/html": [
       "<div>\n",
       "<style scoped>\n",
       "    .dataframe tbody tr th:only-of-type {\n",
       "        vertical-align: middle;\n",
       "    }\n",
       "\n",
       "    .dataframe tbody tr th {\n",
       "        vertical-align: top;\n",
       "    }\n",
       "\n",
       "    .dataframe thead th {\n",
       "        text-align: right;\n",
       "    }\n",
       "</style>\n",
       "<table border=\"1\" class=\"dataframe\">\n",
       "  <thead>\n",
       "    <tr style=\"text-align: right;\">\n",
       "      <th>Age Range</th>\n",
       "      <th>0 to 9 years</th>\n",
       "      <th>10 to 19 years</th>\n",
       "      <th>20 to 24 years</th>\n",
       "      <th>25 to 34 years</th>\n",
       "      <th>35 to 44 years</th>\n",
       "      <th>45 to 54 years</th>\n",
       "      <th>55 to 59 years</th>\n",
       "      <th>60 to 64 years</th>\n",
       "      <th>65 to 74 years</th>\n",
       "      <th>75 years and over</th>\n",
       "      <th>All</th>\n",
       "    </tr>\n",
       "    <tr>\n",
       "      <th>Notice Preference Definition</th>\n",
       "      <th></th>\n",
       "      <th></th>\n",
       "      <th></th>\n",
       "      <th></th>\n",
       "      <th></th>\n",
       "      <th></th>\n",
       "      <th></th>\n",
       "      <th></th>\n",
       "      <th></th>\n",
       "      <th></th>\n",
       "      <th></th>\n",
       "    </tr>\n",
       "  </thead>\n",
       "  <tbody>\n",
       "    <tr>\n",
       "      <th>email</th>\n",
       "      <td>27475</td>\n",
       "      <td>38055</td>\n",
       "      <td>23809</td>\n",
       "      <td>79351</td>\n",
       "      <td>57698</td>\n",
       "      <td>41450</td>\n",
       "      <td>15328</td>\n",
       "      <td>13805</td>\n",
       "      <td>20299</td>\n",
       "      <td>6508</td>\n",
       "      <td>323778</td>\n",
       "    </tr>\n",
       "    <tr>\n",
       "      <th>print</th>\n",
       "      <td>4135</td>\n",
       "      <td>5831</td>\n",
       "      <td>2128</td>\n",
       "      <td>4697</td>\n",
       "      <td>3193</td>\n",
       "      <td>3285</td>\n",
       "      <td>1635</td>\n",
       "      <td>1691</td>\n",
       "      <td>2698</td>\n",
       "      <td>2023</td>\n",
       "      <td>31316</td>\n",
       "    </tr>\n",
       "    <tr>\n",
       "      <th>All</th>\n",
       "      <td>31610</td>\n",
       "      <td>43886</td>\n",
       "      <td>25937</td>\n",
       "      <td>84048</td>\n",
       "      <td>60891</td>\n",
       "      <td>44735</td>\n",
       "      <td>16963</td>\n",
       "      <td>15496</td>\n",
       "      <td>22997</td>\n",
       "      <td>8531</td>\n",
       "      <td>355094</td>\n",
       "    </tr>\n",
       "  </tbody>\n",
       "</table>\n",
       "</div>"
      ],
      "text/plain": [
       "Age Range                     0 to 9 years  10 to 19 years  20 to 24 years  \\\n",
       "Notice Preference Definition                                                 \n",
       "email                                27475           38055           23809   \n",
       "print                                 4135            5831            2128   \n",
       "All                                  31610           43886           25937   \n",
       "\n",
       "Age Range                     25 to 34 years  35 to 44 years  45 to 54 years  \\\n",
       "Notice Preference Definition                                                   \n",
       "email                                  79351           57698           41450   \n",
       "print                                   4697            3193            3285   \n",
       "All                                    84048           60891           44735   \n",
       "\n",
       "Age Range                     55 to 59 years  60 to 64 years  65 to 74 years  \\\n",
       "Notice Preference Definition                                                   \n",
       "email                                  15328           13805           20299   \n",
       "print                                   1635            1691            2698   \n",
       "All                                    16963           15496           22997   \n",
       "\n",
       "Age Range                     75 years and over     All  \n",
       "Notice Preference Definition                             \n",
       "email                                      6508  323778  \n",
       "print                                      2023   31316  \n",
       "All                                        8531  355094  "
      ]
     },
     "execution_count": 16,
     "metadata": {},
     "output_type": "execute_result"
    }
   ],
   "source": [
    "pd.crosstab(\n",
    "    benachrichtigung['Notice Preference Definition'],\n",
    "    benachrichtigung['Age Range'],\n",
    "    margins=True\n",
    ")\n",
    "# Beachte, dass wir hier eine Teilmenge des Datensatzes betrachten über die Variable \"benachrichitigung\". \n",
    "# D.h. wir blenden die Ereignisse aus, wo in der Spalte 'Notice Preference Definition' nicht \n",
    "# 'email' oder 'print' steht."
   ]
  },
  {
   "cell_type": "markdown",
   "metadata": {},
   "source": [
    "----\n",
    "###### WICHTIG:\n",
    "Beachte, dass die Summe der Nutzer, die per Mail informiert werden hier 323778 ergibt. Wir haben aber bei Frage 2 festgestellt, dass eigentlich 323937 Nutzer per Mail informiert werden möchten.\n",
    "Dies liegt daran, dass offensichtlich in einigen Einträgen (Zeilen des Datensatzes) zwar im Feld \"Notice Preference Definition\" der Wert \"email\" steht, aber offensichtlich im Feld \"Age Range\" kein Eintrag steht. In der Kreuztabelle werden die beiden Merkmale 'Age Range' und 'Notice Preference Definition' betrachtet und somit nur die Einträge, wo entsprechednd beide Felder ausgefüllt sind.\n",
    "\n",
    "(Das ist übrigens unabhängig ob man die Kreuztabelle über die \"große\" Variable \"df\" oder \"benachrichtigung\" berechnet, probiere es gerne aus!)\n",
    "\n",
    "----"
   ]
  },
  {
   "cell_type": "code",
   "execution_count": 17,
   "metadata": {},
   "outputs": [
    {
     "data": {
      "text/html": [
       "<div>\n",
       "<style scoped>\n",
       "    .dataframe tbody tr th:only-of-type {\n",
       "        vertical-align: middle;\n",
       "    }\n",
       "\n",
       "    .dataframe tbody tr th {\n",
       "        vertical-align: top;\n",
       "    }\n",
       "\n",
       "    .dataframe thead th {\n",
       "        text-align: right;\n",
       "    }\n",
       "</style>\n",
       "<table border=\"1\" class=\"dataframe\">\n",
       "  <thead>\n",
       "    <tr style=\"text-align: right;\">\n",
       "      <th>Age Range</th>\n",
       "      <th>0 to 9 years</th>\n",
       "      <th>10 to 19 years</th>\n",
       "      <th>20 to 24 years</th>\n",
       "      <th>25 to 34 years</th>\n",
       "      <th>35 to 44 years</th>\n",
       "      <th>45 to 54 years</th>\n",
       "      <th>55 to 59 years</th>\n",
       "      <th>60 to 64 years</th>\n",
       "      <th>65 to 74 years</th>\n",
       "      <th>75 years and over</th>\n",
       "    </tr>\n",
       "    <tr>\n",
       "      <th>Notice Preference Definition</th>\n",
       "      <th></th>\n",
       "      <th></th>\n",
       "      <th></th>\n",
       "      <th></th>\n",
       "      <th></th>\n",
       "      <th></th>\n",
       "      <th></th>\n",
       "      <th></th>\n",
       "      <th></th>\n",
       "      <th></th>\n",
       "    </tr>\n",
       "  </thead>\n",
       "  <tbody>\n",
       "    <tr>\n",
       "      <th>email</th>\n",
       "      <td>0.084858</td>\n",
       "      <td>0.117534</td>\n",
       "      <td>0.073535</td>\n",
       "      <td>0.245078</td>\n",
       "      <td>0.178202</td>\n",
       "      <td>0.128020</td>\n",
       "      <td>0.047341</td>\n",
       "      <td>0.042637</td>\n",
       "      <td>0.062694</td>\n",
       "      <td>0.020100</td>\n",
       "    </tr>\n",
       "    <tr>\n",
       "      <th>print</th>\n",
       "      <td>0.132041</td>\n",
       "      <td>0.186199</td>\n",
       "      <td>0.067952</td>\n",
       "      <td>0.149987</td>\n",
       "      <td>0.101961</td>\n",
       "      <td>0.104898</td>\n",
       "      <td>0.052210</td>\n",
       "      <td>0.053998</td>\n",
       "      <td>0.086154</td>\n",
       "      <td>0.064600</td>\n",
       "    </tr>\n",
       "    <tr>\n",
       "      <th>All</th>\n",
       "      <td>0.089019</td>\n",
       "      <td>0.123590</td>\n",
       "      <td>0.073043</td>\n",
       "      <td>0.236692</td>\n",
       "      <td>0.171479</td>\n",
       "      <td>0.125981</td>\n",
       "      <td>0.047770</td>\n",
       "      <td>0.043639</td>\n",
       "      <td>0.064763</td>\n",
       "      <td>0.024025</td>\n",
       "    </tr>\n",
       "  </tbody>\n",
       "</table>\n",
       "</div>"
      ],
      "text/plain": [
       "Age Range                     0 to 9 years  10 to 19 years  20 to 24 years  \\\n",
       "Notice Preference Definition                                                 \n",
       "email                             0.084858        0.117534        0.073535   \n",
       "print                             0.132041        0.186199        0.067952   \n",
       "All                               0.089019        0.123590        0.073043   \n",
       "\n",
       "Age Range                     25 to 34 years  35 to 44 years  45 to 54 years  \\\n",
       "Notice Preference Definition                                                   \n",
       "email                               0.245078        0.178202        0.128020   \n",
       "print                               0.149987        0.101961        0.104898   \n",
       "All                                 0.236692        0.171479        0.125981   \n",
       "\n",
       "Age Range                     55 to 59 years  60 to 64 years  65 to 74 years  \\\n",
       "Notice Preference Definition                                                   \n",
       "email                               0.047341        0.042637        0.062694   \n",
       "print                               0.052210        0.053998        0.086154   \n",
       "All                                 0.047770        0.043639        0.064763   \n",
       "\n",
       "Age Range                     75 years and over  \n",
       "Notice Preference Definition                     \n",
       "email                                  0.020100  \n",
       "print                                  0.064600  \n",
       "All                                    0.024025  "
      ]
     },
     "execution_count": 17,
     "metadata": {},
     "output_type": "execute_result"
    }
   ],
   "source": [
    "# Nun möchten wir das prozentual betrachten:\n",
    "pd.crosstab(\n",
    "    benachrichtigung['Notice Preference Definition'],\n",
    "    benachrichtigung['Age Range'],\n",
    "    margins=True, normalize=0\n",
    ")"
   ]
  },
  {
   "cell_type": "markdown",
   "metadata": {},
   "source": [
    "# Antwort auf Frage 3:\n",
    "\n",
    " Die Frage können wir wie folgt beantworten. \n",
    " Von allen Nutzern, die per Mail informiert werden möchten, sind\n",
    " - ca. 9%  in der Alterklasse 0 bis 9 Jahre,\n",
    " - ca. 12% in der Altersklasse 10 bis 19 Jahre,\n",
    " \n",
    " ...\n",
    " \n",
    " - ca. 6%  in der Altersklasse 65 bis 74 Jahre,\n",
    " - ca. 2%  in der Altersklasse 75 Jahre und älter.\n",
    "\n",
    "Im Vergleich dazu, sind von allen Nutzern, die per Post informiert werden möchten\n",
    "- ca. 13%  in der Altersklasse 0 bis 9 Jahre,\n",
    "- ca. 17%  in der Altersklasse 10 bis 19 Jahre,\n",
    "\n",
    "...\n",
    "\n",
    "- ca. 86%  in der Altersklasse 65 bis 74 Jahre,\n",
    "- ca. 65%  in der Altersklasse 75 Jahre und älter.\n"
   ]
  },
  {
   "cell_type": "markdown",
   "metadata": {},
   "source": [
    "# Frage 4: Wie viele Ausleihen werden im Mittel pro Altersgruppe und pro Jahr getätigt? Ist die Streuung zwischen den Gruppen gleich?"
   ]
  },
  {
   "cell_type": "markdown",
   "metadata": {},
   "source": [
    "Für diese Fragestellung sind die Spalten 'Total Checkouts' und 'Age Range' relevant. Bei der ersten handelt es sich um ein metrisches Merkmal, die zweite ist ordinal.\n",
    "Wir definieren eine neue Spalte, die die durchschnittliche jährliche Ausleihe eines Nutzers ausgibt.\n"
   ]
  },
  {
   "cell_type": "code",
   "execution_count": 18,
   "metadata": {},
   "outputs": [],
   "source": [
    "df['Circulation Active Year'] = pd.to_numeric(df['Circulation Active Year'], errors='coerce')\n",
    "df['Membership Duration Years'] = (df['Circulation Active Year'] - df['Year Patron Registered'])+1 \n",
    "# hier werden der Einfachheit ganze Jahre angenommen\n",
    "df[\"Average Checkouts per Year\"] =(df['Total Checkouts']/df['Membership Duration Years'])\n"
   ]
  },
  {
   "cell_type": "code",
   "execution_count": 19,
   "metadata": {},
   "outputs": [
    {
     "data": {
      "image/png": "[encoded data removed]",
      "text/plain": [
       "<Figure size 1152x432 with 1 Axes>"
      ]
     },
     "metadata": {},
     "output_type": "display_data"
    }
   ],
   "source": [
    "import matplotlib.pyplot as plt\n",
    "\n",
    "%matplotlib inline\n",
    "sns.set()\n",
    "plt.figure(figsize=(16, 6))\n",
    "my_order =['0 to 9 years', '10 to 19 years', '20 to 24 years', '25 to 34 years', '35 to 44 years', '45 to 54 years', '55 to 59 years', '60 to 64 years', '65 to 74 years', '75 years and over']\n",
    "\n",
    "plt = sns.boxplot(y='Average Checkouts per Year', x='Age Range', data=df[df['Average Checkouts per Year']<df['Average Checkouts per Year'].quantile(0.95)], fliersize=0.5, whis=1.5, order =my_order)"
   ]
  },
  {
   "cell_type": "markdown",
   "metadata": {},
   "source": [
    "# Antwort auf Frage 4: \n",
    "\n",
    "In der Grafik ist die Antwort ablesbar. Man sieht  ganz schön, dass es kaum Zusammenhang zwischen der durschnittlichen Ausleihe pro Jahr und den Altersgruppen gibt. Lediglich die Altersgruppe zwischen 20 und 24 und 25 und 34 leihen sichtbar weniger Bücher aus als die anderen Altersgruppen."
   ]
  },
  {
   "cell_type": "markdown",
   "metadata": {},
   "source": [
    "# Frage 5: Welche Altersgruppe verlängert im Mittel wie oft?"
   ]
  },
  {
   "cell_type": "markdown",
   "metadata": {},
   "source": [
    "# Antwort auf Frage 5"
   ]
  },
  {
   "cell_type": "code",
   "execution_count": 20,
   "metadata": {},
   "outputs": [
    {
     "name": "stdout",
     "output_type": "stream",
     "text": [
      "Im Mittel werden in den Altersgruppen wie folgt Ausleihen getätigt:\n",
      "0 bis 9-jährige: 35.64511016416493\n",
      "10 bis 19-jährige: 33.239781402268186\n",
      "...\n",
      "65 bis 74-jährige: 33.49944363090066\n",
      "ab 75-jährige: 33.0937210614251\n"
     ]
    }
   ],
   "source": [
    "Age_Range_0_9 = df.loc[df['Age Range'] == '0 to 9 years']\n",
    "Age_Range_10_19 = df.loc[df['Age Range'] == '10 to 19 years']\n",
    "Age_Range_20_24 = df.loc[df['Age Range'] == '20 to 24 years']\n",
    "Age_Range_25_34 = df.loc[df['Age Range'] == '25 to 34 years']\n",
    "Age_Range_35_44 = df.loc[df['Age Range'] == '35 to 44 years']\n",
    "Age_Range_45_54 = df.loc[df['Age Range'] == '45 to 54 years']\n",
    "Age_Range_55_59 = df.loc[df['Age Range'] == '55 to 59 years']\n",
    "Age_Range_60_64 = df.loc[df['Age Range'] == '60 to 64 years']\n",
    "Age_Range_65_74 = df.loc[df['Age Range'] == '65 to 74 years']\n",
    "Age_Range_75 = df.loc[df['Age Range'] == '75 years and over']\n",
    "\n",
    "# Hilfsvariablen\n",
    "\n",
    "print('Im Mittel werden in den Altersgruppen wie folgt Ausleihen getätigt:' )\n",
    "print('0 bis 9-jährige: '  + str(Age_Range_0_9['Average Checkouts per Year'].mean()))\n",
    "print('10 bis 19-jährige: '  + str(Age_Range_10_19['Average Checkouts per Year'].mean()))\n",
    "\n",
    "print('...')\n",
    "\n",
    "\n",
    "print('65 bis 74-jährige: '  + str(Age_Range_65_74['Average Checkouts per Year'].mean()))\n",
    "print('ab 75-jährige: '  + str(Age_Range_75['Average Checkouts per Year'].mean()))\n",
    "\n",
    "\n"
   ]
  },
  {
   "cell_type": "markdown",
   "metadata": {},
   "source": [
    "----"
   ]
  },
  {
   "cell_type": "markdown",
   "metadata": {},
   "source": [
    "# Frage 6: Wie ist die Verteilung der Altersgruppen im Mission District"
   ]
  },
  {
   "cell_type": "markdown",
   "metadata": {},
   "source": [
    "Für diese Frage sind die Variablen 'Home Library Definition' und 'Age Range' relevant. Die erstere ist nominal, die zweite ordinal. D.h. auch hier ist die Berechnung von Erwartungswert und Varianz nicht möglich. Für einen ersten graphischen Überblick können wir aber einfach zählen, wie viele Nutzer welcher Altersgruppe im Mission District sind."
   ]
  },
  {
   "cell_type": "code",
   "execution_count": 21,
   "metadata": {},
   "outputs": [],
   "source": [
    "mission_district=df.loc[(df['Home Library Definition'] == \"Mission\")] # Hilfsvariable"
   ]
  },
  {
   "cell_type": "code",
   "execution_count": 22,
   "metadata": {},
   "outputs": [
    {
     "data": {
      "text/plain": [
       "<seaborn.axisgrid.FacetGrid at 0x7fa8cbce4c70>"
      ]
     },
     "execution_count": 22,
     "metadata": {},
     "output_type": "execute_result"
    },
    {
     "data": {
      "image/png": "[encoded data removed]",
      "text/plain": [
       "<Figure size 1080x360 with 1 Axes>"
      ]
     },
     "metadata": {},
     "output_type": "display_data"
    }
   ],
   "source": [
    "my_order =['0 to 9 years', '10 to 19 years', '20 to 24 years', '25 to 34 years', '35 to 44 years', '45 to 54 years', '55 to 59 years', '60 to 64 years', '65 to 74 years', '75 years and over']\n",
    "sns.catplot(x='Age Range', kind=\"count\", data=mission_district, order=my_order, aspect=3)"
   ]
  },
  {
   "cell_type": "markdown",
   "metadata": {},
   "source": [
    "Die obere Grafik beantwortet die Frage schon ganz gut, dennoch können wir uns auch die genauen Werte über eine Kreuztabelle ausgeben lassen:"
   ]
  },
  {
   "cell_type": "code",
   "execution_count": 23,
   "metadata": {},
   "outputs": [
    {
     "data": {
      "text/html": [
       "<div>\n",
       "<style scoped>\n",
       "    .dataframe tbody tr th:only-of-type {\n",
       "        vertical-align: middle;\n",
       "    }\n",
       "\n",
       "    .dataframe tbody tr th {\n",
       "        vertical-align: top;\n",
       "    }\n",
       "\n",
       "    .dataframe thead th {\n",
       "        text-align: right;\n",
       "    }\n",
       "</style>\n",
       "<table border=\"1\" class=\"dataframe\">\n",
       "  <thead>\n",
       "    <tr style=\"text-align: right;\">\n",
       "      <th>Age Range</th>\n",
       "      <th>0 to 9 years</th>\n",
       "      <th>10 to 19 years</th>\n",
       "      <th>20 to 24 years</th>\n",
       "      <th>25 to 34 years</th>\n",
       "      <th>35 to 44 years</th>\n",
       "      <th>45 to 54 years</th>\n",
       "      <th>55 to 59 years</th>\n",
       "      <th>60 to 64 years</th>\n",
       "      <th>65 to 74 years</th>\n",
       "      <th>75 years and over</th>\n",
       "    </tr>\n",
       "    <tr>\n",
       "      <th>Home Library Definition</th>\n",
       "      <th></th>\n",
       "      <th></th>\n",
       "      <th></th>\n",
       "      <th></th>\n",
       "      <th></th>\n",
       "      <th></th>\n",
       "      <th></th>\n",
       "      <th></th>\n",
       "      <th></th>\n",
       "      <th></th>\n",
       "    </tr>\n",
       "  </thead>\n",
       "  <tbody>\n",
       "    <tr>\n",
       "      <th>Mission</th>\n",
       "      <td>0.108568</td>\n",
       "      <td>0.158114</td>\n",
       "      <td>0.065982</td>\n",
       "      <td>0.238724</td>\n",
       "      <td>0.185325</td>\n",
       "      <td>0.116905</td>\n",
       "      <td>0.039519</td>\n",
       "      <td>0.031733</td>\n",
       "      <td>0.040659</td>\n",
       "      <td>0.014471</td>\n",
       "    </tr>\n",
       "    <tr>\n",
       "      <th>All</th>\n",
       "      <td>0.108568</td>\n",
       "      <td>0.158114</td>\n",
       "      <td>0.065982</td>\n",
       "      <td>0.238724</td>\n",
       "      <td>0.185325</td>\n",
       "      <td>0.116905</td>\n",
       "      <td>0.039519</td>\n",
       "      <td>0.031733</td>\n",
       "      <td>0.040659</td>\n",
       "      <td>0.014471</td>\n",
       "    </tr>\n",
       "  </tbody>\n",
       "</table>\n",
       "</div>"
      ],
      "text/plain": [
       "Age Range                0 to 9 years  10 to 19 years  20 to 24 years  \\\n",
       "Home Library Definition                                                 \n",
       "Mission                      0.108568        0.158114        0.065982   \n",
       "All                          0.108568        0.158114        0.065982   \n",
       "\n",
       "Age Range                25 to 34 years  35 to 44 years  45 to 54 years  \\\n",
       "Home Library Definition                                                   \n",
       "Mission                        0.238724        0.185325        0.116905   \n",
       "All                            0.238724        0.185325        0.116905   \n",
       "\n",
       "Age Range                55 to 59 years  60 to 64 years  65 to 74 years  \\\n",
       "Home Library Definition                                                   \n",
       "Mission                        0.039519        0.031733        0.040659   \n",
       "All                            0.039519        0.031733        0.040659   \n",
       "\n",
       "Age Range                75 years and over  \n",
       "Home Library Definition                     \n",
       "Mission                           0.014471  \n",
       "All                               0.014471  "
      ]
     },
     "execution_count": 23,
     "metadata": {},
     "output_type": "execute_result"
    }
   ],
   "source": [
    "pd.crosstab(\n",
    "    mission_district['Home Library Definition'],\n",
    "    mission_district['Age Range'],\n",
    "    margins=True, normalize=0\n",
    ")"
   ]
  },
  {
   "cell_type": "markdown",
   "metadata": {},
   "source": [
    "# Antwort auf Frage 6\n",
    "Die Verteilung der Altersgruppen im Mission District ist wie folgt:\n",
    "- ca. 11% der Nutzer sind zwischen 0 und 9 Jahren,\n",
    "- ca. 16% der Nutzer sind zwischen 10 und 19 Jahren,\n",
    " \n",
    "...\n",
    "\n",
    "- ca. 4% der Nutzer sind zwischen 65 und 74 Jahren,\n",
    "- ca. 1% der Nutzer sind 75 Jahre und älter.\n",
    "\n",
    "\n",
    "----"
   ]
  },
  {
   "cell_type": "markdown",
   "metadata": {},
   "source": [
    "# Frage 7: Erklärung von Normalisierung von Kreuztabellen (Kapitel 3 im Skript)"
   ]
  },
  {
   "cell_type": "markdown",
   "metadata": {},
   "source": [
    "Wir nutzen das Beispiel von oben (Alterskategorien und Benachrichtigungsart aus Frage 3).\n",
    "Zuerst einmal eine nicht normalisierte Kreuztabelle:"
   ]
  },
  {
   "cell_type": "code",
   "execution_count": 24,
   "metadata": {},
   "outputs": [
    {
     "data": {
      "text/html": [
       "<div>\n",
       "<style scoped>\n",
       "    .dataframe tbody tr th:only-of-type {\n",
       "        vertical-align: middle;\n",
       "    }\n",
       "\n",
       "    .dataframe tbody tr th {\n",
       "        vertical-align: top;\n",
       "    }\n",
       "\n",
       "    .dataframe thead th {\n",
       "        text-align: right;\n",
       "    }\n",
       "</style>\n",
       "<table border=\"1\" class=\"dataframe\">\n",
       "  <thead>\n",
       "    <tr style=\"text-align: right;\">\n",
       "      <th>Age Range</th>\n",
       "      <th>0 to 9 years</th>\n",
       "      <th>10 to 19 years</th>\n",
       "      <th>20 to 24 years</th>\n",
       "      <th>25 to 34 years</th>\n",
       "      <th>35 to 44 years</th>\n",
       "      <th>45 to 54 years</th>\n",
       "      <th>55 to 59 years</th>\n",
       "      <th>60 to 64 years</th>\n",
       "      <th>65 to 74 years</th>\n",
       "      <th>75 years and over</th>\n",
       "      <th>All</th>\n",
       "    </tr>\n",
       "    <tr>\n",
       "      <th>Notice Preference Definition</th>\n",
       "      <th></th>\n",
       "      <th></th>\n",
       "      <th></th>\n",
       "      <th></th>\n",
       "      <th></th>\n",
       "      <th></th>\n",
       "      <th></th>\n",
       "      <th></th>\n",
       "      <th></th>\n",
       "      <th></th>\n",
       "      <th></th>\n",
       "    </tr>\n",
       "  </thead>\n",
       "  <tbody>\n",
       "    <tr>\n",
       "      <th>email</th>\n",
       "      <td>27475</td>\n",
       "      <td>38055</td>\n",
       "      <td>23809</td>\n",
       "      <td>79351</td>\n",
       "      <td>57698</td>\n",
       "      <td>41450</td>\n",
       "      <td>15328</td>\n",
       "      <td>13805</td>\n",
       "      <td>20299</td>\n",
       "      <td>6508</td>\n",
       "      <td>323778</td>\n",
       "    </tr>\n",
       "    <tr>\n",
       "      <th>print</th>\n",
       "      <td>4135</td>\n",
       "      <td>5831</td>\n",
       "      <td>2128</td>\n",
       "      <td>4697</td>\n",
       "      <td>3193</td>\n",
       "      <td>3285</td>\n",
       "      <td>1635</td>\n",
       "      <td>1691</td>\n",
       "      <td>2698</td>\n",
       "      <td>2023</td>\n",
       "      <td>31316</td>\n",
       "    </tr>\n",
       "    <tr>\n",
       "      <th>All</th>\n",
       "      <td>31610</td>\n",
       "      <td>43886</td>\n",
       "      <td>25937</td>\n",
       "      <td>84048</td>\n",
       "      <td>60891</td>\n",
       "      <td>44735</td>\n",
       "      <td>16963</td>\n",
       "      <td>15496</td>\n",
       "      <td>22997</td>\n",
       "      <td>8531</td>\n",
       "      <td>355094</td>\n",
       "    </tr>\n",
       "  </tbody>\n",
       "</table>\n",
       "</div>"
      ],
      "text/plain": [
       "Age Range                     0 to 9 years  10 to 19 years  20 to 24 years  \\\n",
       "Notice Preference Definition                                                 \n",
       "email                                27475           38055           23809   \n",
       "print                                 4135            5831            2128   \n",
       "All                                  31610           43886           25937   \n",
       "\n",
       "Age Range                     25 to 34 years  35 to 44 years  45 to 54 years  \\\n",
       "Notice Preference Definition                                                   \n",
       "email                                  79351           57698           41450   \n",
       "print                                   4697            3193            3285   \n",
       "All                                    84048           60891           44735   \n",
       "\n",
       "Age Range                     55 to 59 years  60 to 64 years  65 to 74 years  \\\n",
       "Notice Preference Definition                                                   \n",
       "email                                  15328           13805           20299   \n",
       "print                                   1635            1691            2698   \n",
       "All                                    16963           15496           22997   \n",
       "\n",
       "Age Range                     75 years and over     All  \n",
       "Notice Preference Definition                             \n",
       "email                                      6508  323778  \n",
       "print                                      2023   31316  \n",
       "All                                        8531  355094  "
      ]
     },
     "execution_count": 24,
     "metadata": {},
     "output_type": "execute_result"
    }
   ],
   "source": [
    "# Nun möchten wir das prozentual betrachten:\n",
    "pd.crosstab(\n",
    "    benachrichtigung['Notice Preference Definition'],\n",
    "    benachrichtigung['Age Range'],\n",
    "    margins=True\n",
    ")\n",
    "# die Reihenfolge der betrachteten Spalten 'Notice Preference Definition' und 'Age Range' spielt keine Rolle, \n",
    "# probiere es ruhig aus\""
   ]
  },
  {
   "cell_type": "code",
   "execution_count": 25,
   "metadata": {},
   "outputs": [
    {
     "data": {
      "text/html": [
       "<div>\n",
       "<style scoped>\n",
       "    .dataframe tbody tr th:only-of-type {\n",
       "        vertical-align: middle;\n",
       "    }\n",
       "\n",
       "    .dataframe tbody tr th {\n",
       "        vertical-align: top;\n",
       "    }\n",
       "\n",
       "    .dataframe thead th {\n",
       "        text-align: right;\n",
       "    }\n",
       "</style>\n",
       "<table border=\"1\" class=\"dataframe\">\n",
       "  <thead>\n",
       "    <tr style=\"text-align: right;\">\n",
       "      <th>Age Range</th>\n",
       "      <th>0 to 9 years</th>\n",
       "      <th>10 to 19 years</th>\n",
       "      <th>20 to 24 years</th>\n",
       "      <th>25 to 34 years</th>\n",
       "      <th>35 to 44 years</th>\n",
       "      <th>45 to 54 years</th>\n",
       "      <th>55 to 59 years</th>\n",
       "      <th>60 to 64 years</th>\n",
       "      <th>65 to 74 years</th>\n",
       "      <th>75 years and over</th>\n",
       "    </tr>\n",
       "    <tr>\n",
       "      <th>Notice Preference Definition</th>\n",
       "      <th></th>\n",
       "      <th></th>\n",
       "      <th></th>\n",
       "      <th></th>\n",
       "      <th></th>\n",
       "      <th></th>\n",
       "      <th></th>\n",
       "      <th></th>\n",
       "      <th></th>\n",
       "      <th></th>\n",
       "    </tr>\n",
       "  </thead>\n",
       "  <tbody>\n",
       "    <tr>\n",
       "      <th>email</th>\n",
       "      <td>0.084858</td>\n",
       "      <td>0.117534</td>\n",
       "      <td>0.073535</td>\n",
       "      <td>0.245078</td>\n",
       "      <td>0.178202</td>\n",
       "      <td>0.128020</td>\n",
       "      <td>0.047341</td>\n",
       "      <td>0.042637</td>\n",
       "      <td>0.062694</td>\n",
       "      <td>0.020100</td>\n",
       "    </tr>\n",
       "    <tr>\n",
       "      <th>print</th>\n",
       "      <td>0.132041</td>\n",
       "      <td>0.186199</td>\n",
       "      <td>0.067952</td>\n",
       "      <td>0.149987</td>\n",
       "      <td>0.101961</td>\n",
       "      <td>0.104898</td>\n",
       "      <td>0.052210</td>\n",
       "      <td>0.053998</td>\n",
       "      <td>0.086154</td>\n",
       "      <td>0.064600</td>\n",
       "    </tr>\n",
       "    <tr>\n",
       "      <th>All</th>\n",
       "      <td>0.089019</td>\n",
       "      <td>0.123590</td>\n",
       "      <td>0.073043</td>\n",
       "      <td>0.236692</td>\n",
       "      <td>0.171479</td>\n",
       "      <td>0.125981</td>\n",
       "      <td>0.047770</td>\n",
       "      <td>0.043639</td>\n",
       "      <td>0.064763</td>\n",
       "      <td>0.024025</td>\n",
       "    </tr>\n",
       "  </tbody>\n",
       "</table>\n",
       "</div>"
      ],
      "text/plain": [
       "Age Range                     0 to 9 years  10 to 19 years  20 to 24 years  \\\n",
       "Notice Preference Definition                                                 \n",
       "email                             0.084858        0.117534        0.073535   \n",
       "print                             0.132041        0.186199        0.067952   \n",
       "All                               0.089019        0.123590        0.073043   \n",
       "\n",
       "Age Range                     25 to 34 years  35 to 44 years  45 to 54 years  \\\n",
       "Notice Preference Definition                                                   \n",
       "email                               0.245078        0.178202        0.128020   \n",
       "print                               0.149987        0.101961        0.104898   \n",
       "All                                 0.236692        0.171479        0.125981   \n",
       "\n",
       "Age Range                     55 to 59 years  60 to 64 years  65 to 74 years  \\\n",
       "Notice Preference Definition                                                   \n",
       "email                               0.047341        0.042637        0.062694   \n",
       "print                               0.052210        0.053998        0.086154   \n",
       "All                                 0.047770        0.043639        0.064763   \n",
       "\n",
       "Age Range                     75 years and over  \n",
       "Notice Preference Definition                     \n",
       "email                                  0.020100  \n",
       "print                                  0.064600  \n",
       "All                                    0.024025  "
      ]
     },
     "execution_count": 25,
     "metadata": {},
     "output_type": "execute_result"
    }
   ],
   "source": [
    "# Nun normalisieren wir nach Zeilen (normalize=0)\n",
    "pd.crosstab(\n",
    "    benachrichtigung['Notice Preference Definition'],\n",
    "    benachrichtigung['Age Range'],\n",
    "    margins=True, normalize=0\n",
    ")"
   ]
  },
  {
   "cell_type": "markdown",
   "metadata": {},
   "source": [
    "Hier sehen wir, dass jede Zeile in der Summe 1 ergibt. D.h. wir können die Tabelle prozentual nach Zeilen interpretieren.\n",
    "Also z.B. erste Zeile: Von allen Nutzern, die per Mail informiert werden möchten, befinden sich ca. 13% (0.128020 von 1) in der Altersgruppe 45 bis 54 Jahre.\n"
   ]
  },
  {
   "cell_type": "code",
   "execution_count": 26,
   "metadata": {},
   "outputs": [
    {
     "data": {
      "text/html": [
       "<div>\n",
       "<style scoped>\n",
       "    .dataframe tbody tr th:only-of-type {\n",
       "        vertical-align: middle;\n",
       "    }\n",
       "\n",
       "    .dataframe tbody tr th {\n",
       "        vertical-align: top;\n",
       "    }\n",
       "\n",
       "    .dataframe thead th {\n",
       "        text-align: right;\n",
       "    }\n",
       "</style>\n",
       "<table border=\"1\" class=\"dataframe\">\n",
       "  <thead>\n",
       "    <tr style=\"text-align: right;\">\n",
       "      <th>Age Range</th>\n",
       "      <th>0 to 9 years</th>\n",
       "      <th>10 to 19 years</th>\n",
       "      <th>20 to 24 years</th>\n",
       "      <th>25 to 34 years</th>\n",
       "      <th>35 to 44 years</th>\n",
       "      <th>45 to 54 years</th>\n",
       "      <th>55 to 59 years</th>\n",
       "      <th>60 to 64 years</th>\n",
       "      <th>65 to 74 years</th>\n",
       "      <th>75 years and over</th>\n",
       "      <th>All</th>\n",
       "    </tr>\n",
       "    <tr>\n",
       "      <th>Notice Preference Definition</th>\n",
       "      <th></th>\n",
       "      <th></th>\n",
       "      <th></th>\n",
       "      <th></th>\n",
       "      <th></th>\n",
       "      <th></th>\n",
       "      <th></th>\n",
       "      <th></th>\n",
       "      <th></th>\n",
       "      <th></th>\n",
       "      <th></th>\n",
       "    </tr>\n",
       "  </thead>\n",
       "  <tbody>\n",
       "    <tr>\n",
       "      <th>email</th>\n",
       "      <td>0.869187</td>\n",
       "      <td>0.867133</td>\n",
       "      <td>0.917955</td>\n",
       "      <td>0.944115</td>\n",
       "      <td>0.947562</td>\n",
       "      <td>0.926568</td>\n",
       "      <td>0.903614</td>\n",
       "      <td>0.890875</td>\n",
       "      <td>0.88268</td>\n",
       "      <td>0.762865</td>\n",
       "      <td>0.911809</td>\n",
       "    </tr>\n",
       "    <tr>\n",
       "      <th>print</th>\n",
       "      <td>0.130813</td>\n",
       "      <td>0.132867</td>\n",
       "      <td>0.082045</td>\n",
       "      <td>0.055885</td>\n",
       "      <td>0.052438</td>\n",
       "      <td>0.073432</td>\n",
       "      <td>0.096386</td>\n",
       "      <td>0.109125</td>\n",
       "      <td>0.11732</td>\n",
       "      <td>0.237135</td>\n",
       "      <td>0.088191</td>\n",
       "    </tr>\n",
       "  </tbody>\n",
       "</table>\n",
       "</div>"
      ],
      "text/plain": [
       "Age Range                     0 to 9 years  10 to 19 years  20 to 24 years  \\\n",
       "Notice Preference Definition                                                 \n",
       "email                             0.869187        0.867133        0.917955   \n",
       "print                             0.130813        0.132867        0.082045   \n",
       "\n",
       "Age Range                     25 to 34 years  35 to 44 years  45 to 54 years  \\\n",
       "Notice Preference Definition                                                   \n",
       "email                               0.944115        0.947562        0.926568   \n",
       "print                               0.055885        0.052438        0.073432   \n",
       "\n",
       "Age Range                     55 to 59 years  60 to 64 years  65 to 74 years  \\\n",
       "Notice Preference Definition                                                   \n",
       "email                               0.903614        0.890875         0.88268   \n",
       "print                               0.096386        0.109125         0.11732   \n",
       "\n",
       "Age Range                     75 years and over       All  \n",
       "Notice Preference Definition                               \n",
       "email                                  0.762865  0.911809  \n",
       "print                                  0.237135  0.088191  "
      ]
     },
     "execution_count": 26,
     "metadata": {},
     "output_type": "execute_result"
    }
   ],
   "source": [
    "# Als Vergleich normalisieren wir nach Spalten (normalize=1)\n",
    "pd.crosstab(\n",
    "    benachrichtigung['Notice Preference Definition'],\n",
    "    benachrichtigung['Age Range'],\n",
    "    margins=True, normalize=1\n",
    ")"
   ]
  },
  {
   "cell_type": "markdown",
   "metadata": {},
   "source": [
    "Hier sehen wir, dass jede Spalte in der Summe 1 ergibt. D.h. wir können die Tabelle prozentual nach Spalten interpretieren.\n",
    "Also z.B. erste Spalte: Von allen Nutzern, die zwischen 0 und Jahren sind, möchten sich ca. 13% (0.130813 von 1) per Post informieren lassen.\n"
   ]
  },
  {
   "cell_type": "markdown",
   "metadata": {},
   "source": [
    "----"
   ]
  }
 ],
 "metadata": {
  "kernelspec": {
   "display_name": "Python 3",
   "language": "python",
   "name": "python3"
  },
  "language_info": {
   "codemirror_mode": {
    "name": "ipython",
    "version": 3
   },
   "file_extension": ".py",
   "mimetype": "text/x-python",
   "name": "python",
   "nbconvert_exporter": "python",
   "pygments_lexer": "ipython3",
   "version": "3.8.5"
  }
 },
 "nbformat": 4,
 "nbformat_minor": 4
}
