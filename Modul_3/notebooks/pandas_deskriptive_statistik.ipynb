{
 "cells": [
  {
   "cell_type": "code",
   "execution_count": 1,
   "id": "39ed1d20",
   "metadata": {},
   "outputs": [],
   "source": [
    "import pandas as pd\n",
    "df = pd.read_csv(\"../data/Library_Usage.csv\")"
   ]
  },
  {
   "cell_type": "code",
   "execution_count": 2,
   "id": "5370ec93",
   "metadata": {},
   "outputs": [
    {
     "data": {
      "text/plain": [
       "25 to 34 years       91083\n",
       "35 to 44 years       67390\n",
       "10 to 19 years       58944\n",
       "45 to 54 years       52492\n",
       "0 to 9 years         38242\n",
       "65 to 74 years       30141\n",
       "20 to 24 years       29761\n",
       "55 to 59 years       21230\n",
       "60 to 64 years       19800\n",
       "75 years and over    14150\n",
       "Name: Age Range, dtype: int64"
      ]
     },
     "execution_count": 2,
     "metadata": {},
     "output_type": "execute_result"
    }
   ],
   "source": [
    "df['Age Range'].value_counts()"
   ]
  },
  {
   "cell_type": "code",
   "execution_count": 3,
   "id": "b308d5c0",
   "metadata": {},
   "outputs": [
    {
     "data": {
      "text/plain": [
       "25 to 34 years       0.215208\n",
       "35 to 44 years       0.159227\n",
       "10 to 19 years       0.139271\n",
       "45 to 54 years       0.124026\n",
       "0 to 9 years         0.090357\n",
       "65 to 74 years       0.071216\n",
       "20 to 24 years       0.070318\n",
       "55 to 59 years       0.050161\n",
       "60 to 64 years       0.046783\n",
       "75 years and over    0.033433\n",
       "Name: Age Range, dtype: float64"
      ]
     },
     "execution_count": 3,
     "metadata": {},
     "output_type": "execute_result"
    }
   ],
   "source": [
    "df['Age Range'].value_counts(normalize=True)"
   ]
  },
  {
   "cell_type": "code",
   "execution_count": 4,
   "id": "b044fdc0",
   "metadata": {},
   "outputs": [
    {
     "data": {
      "text/plain": [
       "'25 to 34 years'"
      ]
     },
     "execution_count": 4,
     "metadata": {},
     "output_type": "execute_result"
    }
   ],
   "source": [
    "age_mode = df['Age Range'].mode()\n",
    "age_mode[0]"
   ]
  },
  {
   "cell_type": "markdown",
   "id": "8b3b023c",
   "metadata": {},
   "source": [
    "## 3.1 Häufigkeiten (20 Min)\n",
    "\n",
    "    Erstelle eine Häufigkeitsverteilung für die Variable 'Year Patron Registered'. Wieviel Prozent der Kunden wurden 2013 im System registriert? Wie viele in den kommenden Jahren? Was fällt Dir auf?\n",
    "    2013    0.113948 -> 11,39%, in 2014 dann 12,25%, in 2015 bereits 12,74%. - Auffällig ist, dass im Umstellungsjahr 16,35% Kunden regestriert wurden -> was natürlich auch einleuchtet, weil der gesamte Kundenstamm ins neue System überführt wurde.\n",
    "    \n",
    "    Wieviel Prozent der Kunden sind zwischen 25 und 34 Jahren?\n",
    "    25 to 34 years       0.215208 -> 21,52%\n",
    "    \n",
    "    Ersetze die fehlenden Werte in der Spalte Age Range durch den Modus dieser Spalte. Nutze dazu die Funktion DataFrame.fillna (siehe hier für die Dokumentation).\n",
    "    -> erledigt\n",
    "    \n",
    "    Denkst Du, es handelt sich dabei um eine gute Methode, fehlende Werte zu ersetzen? Welche anderen Strategien fallen Dir ein?\n",
    "    Ich denke, die fehlenden Werte durch den Modus der Spalte zu ersetzen, ist keine gute Methode. Wir ignorieren hierbei die gegebene Verteilung der Werte komplett und begünstigen den Häufigsten überproportional. Entweder lassen wir diese Zeilen aus der Betrachtung raus (in der Annahme, dass dort eine ähnliche Verteilung herrschen wird wie in der Beobachtung) oder aber wir füllen die fehlenden Werte entsprechend ihrer Häufigkeitsverteilung auf -> 21,52% erhalten 25-34 usw.\n",
    "    Vermutlich ist Rauslöschen aber die sicherste Methode, damit man die Antworten auf andere Fragestellungen nicht verzerrt -> Angenommen ich berücksichtige beim Auffüllen die Häufigkeitsverteilung... ich müsste dann alles Spalten miteinander ins Verhältnis setzen um wirklich fair zu verteilen (rekursiv, weil andere ja auch fehlende Werte haben) -> denn sonst erhalten vllt. beim willkürlichen, häufigkeitsverteiltem Auffüllen all diejenigen mit überaus hohen Ausleihzahlen die Altergruppe 0-9, obwohl dies in der Realität garnicht möglich wäre, weil man dazu eine jahrzehnte dauernde Mitgliedschaft benötigt und Vielnutzer sein müsste -> welche 0-9 Jährigen haben 5000+ Ausleihen?"
   ]
  },
  {
   "cell_type": "code",
   "execution_count": 5,
   "id": "ac323572",
   "metadata": {},
   "outputs": [
    {
     "data": {
      "text/plain": [
       "2003    0.163555\n",
       "2015    0.127409\n",
       "2014    0.122570\n",
       "2013    0.113948\n",
       "2012    0.088311\n",
       "2011    0.062655\n",
       "2016    0.062081\n",
       "2010    0.057436\n",
       "2009    0.052679\n",
       "2008    0.048455\n",
       "2007    0.031383\n",
       "2006    0.025448\n",
       "2005    0.022832\n",
       "2004    0.021240\n",
       "Name: Year Patron Registered, dtype: float64"
      ]
     },
     "execution_count": 5,
     "metadata": {},
     "output_type": "execute_result"
    }
   ],
   "source": [
    "df['Year Patron Registered'].value_counts(normalize=True)"
   ]
  },
  {
   "cell_type": "code",
   "execution_count": 6,
   "id": "1381a811",
   "metadata": {},
   "outputs": [
    {
     "data": {
      "text/plain": [
       "25 to 34 years       91298\n",
       "35 to 44 years       67390\n",
       "10 to 19 years       58944\n",
       "45 to 54 years       52492\n",
       "0 to 9 years         38242\n",
       "65 to 74 years       30141\n",
       "20 to 24 years       29761\n",
       "55 to 59 years       21230\n",
       "60 to 64 years       19800\n",
       "75 years and over    14150\n",
       "Name: Age Range, dtype: int64"
      ]
     },
     "execution_count": 6,
     "metadata": {},
     "output_type": "execute_result"
    }
   ],
   "source": [
    "df['Age Range'].fillna(age_mode[0], inplace=True)\n",
    "df['Age Range'].value_counts()"
   ]
  },
  {
   "cell_type": "code",
   "execution_count": 7,
   "id": "6438d737",
   "metadata": {},
   "outputs": [
    {
     "data": {
      "text/plain": [
       "161.98209697530748"
      ]
     },
     "execution_count": 7,
     "metadata": {},
     "output_type": "execute_result"
    }
   ],
   "source": [
    "df['Total Checkouts'].mean()"
   ]
  },
  {
   "cell_type": "code",
   "execution_count": 8,
   "id": "c1709113",
   "metadata": {},
   "outputs": [
    {
     "data": {
      "text/plain": [
       "19.0"
      ]
     },
     "execution_count": 8,
     "metadata": {},
     "output_type": "execute_result"
    }
   ],
   "source": [
    "df['Total Checkouts'].median()"
   ]
  },
  {
   "cell_type": "markdown",
   "id": "df9c5101",
   "metadata": {},
   "source": [
    "## 3.2 Mittelwert und Median (20 Min)\n",
    "\n",
    "    Schau Dir den Mittelwert und den Median der Variable Total Checkouts an. Warum sind die beiden Werte so unterschiedlich?\n",
    "    Der Mittelwert errechnet sich aus der Summe aller Ausleihen, geteilt durch die Anzahl an Nutzern.\n",
    "    Der Median gibt mir den Wert zurück, der genau in der Mitte der numerisch sortierten Ausleihen steht: Bei 10 nach Ausleihen sortierten Nutzern die Ausleihen von Person 5, bei 100 nach Ausleihen sortierten Nutzern die Ausleihen von Person 50, bei 1000 nach Ausleihen sortierten Nutzern die Ausleihen von Person 500 etc.\n",
    "    \n",
    "    Was ziehst Du daraus für Schlüsse für weitere statistische Analysen und Reports?\n",
    "    Der Median ist relativ unbeeinflußt von Extremen bzw. Ausreißern, vorausgesetzt dass die Erhebung ausreichend groß ist -> ob nun extreme Vielnutzer oder Karteileichen...es spielt keine große Rolle ob diese vorhanden sind oder fehlen. Der typische Nutzer wird irgendwo in der Mitte liegen...und nicht beim rechnerischen Durchschnitt.\n",
    "    \n",
    "    Angenommen wir haben 10 Nutzer und 1 Nutzer hat 10000 Ausleihen, während alle anderen nur 10 haben. Dann hätte jeder Nutzer im Durchschnitt zwar über 1000 Ausleihen, in der Realität hat der typische Nutzer aber das was in der Mitte liegt...nämlich 10. "
   ]
  },
  {
   "cell_type": "code",
   "execution_count": 9,
   "id": "23d43b81",
   "metadata": {},
   "outputs": [
    {
     "data": {
      "text/plain": [
       "0.25      2.0\n",
       "0.50     19.0\n",
       "0.75    113.0\n",
       "Name: Total Checkouts, dtype: float64"
      ]
     },
     "execution_count": 9,
     "metadata": {},
     "output_type": "execute_result"
    }
   ],
   "source": [
    "df['Total Checkouts'].quantile(q=[0.25, 0.5, 0.75])"
   ]
  },
  {
   "cell_type": "code",
   "execution_count": 10,
   "id": "7da29bf4",
   "metadata": {},
   "outputs": [
    {
     "data": {
      "text/plain": [
       "0.005       0.00\n",
       "0.995    2827.53\n",
       "Name: Total Checkouts, dtype: float64"
      ]
     },
     "execution_count": 10,
     "metadata": {},
     "output_type": "execute_result"
    }
   ],
   "source": [
    "# identifies 0.5% of the data at both ends of the distribution\n",
    "alpha = 0.005\n",
    "df['Total Checkouts'].quantile([alpha, 1-alpha])"
   ]
  },
  {
   "cell_type": "code",
   "execution_count": 11,
   "id": "bc9fef02",
   "metadata": {},
   "outputs": [
    {
     "data": {
      "text/plain": [
       "0.01       0.0\n",
       "0.99    2118.0\n",
       "Name: Total Checkouts, dtype: float64"
      ]
     },
     "execution_count": 11,
     "metadata": {},
     "output_type": "execute_result"
    }
   ],
   "source": [
    "# identifies 1% of the data at both ends of the distribution -> die Eliten ;-)\n",
    "alpha = 0.01\n",
    "df['Total Checkouts'].quantile([alpha, 1-alpha])"
   ]
  },
  {
   "cell_type": "markdown",
   "id": "6acd8c8a",
   "metadata": {},
   "source": [
    "## 3.3 Exkurs: Ausreißerentfernung I (30 Min)\n",
    "\n",
    "    Identifziere jeweils die 1.5% größten Werte in der Spalte Total Checkouts. Definiere diese Werte als Ausreißer.\n",
    "    -> df_filtered1 und df_filtered2\n",
    "    \n",
    "    Erstelle einen Datensatz, für den diese Ausreißer entfernt sind.\n",
    "    -> df_filtered3\n",
    "    \n",
    "    Handelt es sich hierbei um eine gute Methode, Ausreißer zu identifizieren und zu behandeln? Welche anderen Strategien kennst Du?\n",
    "    Im Prinzip ja, man sollte allerdings darauf achten wie viel man wegschneidet...sprich, wann ist es wirklich ein Ausreißer und wann ist es ein -nennen wir es mal- Edgecase oder Special Case. Sind extreme Vielnutzer wirklich Ausreißer oder sind sie nicht doch eine Nutzergruppe, die vllt. gerade deshalb besondern untersuchenswert wäre?\n",
    "    Wir könnten die Ausreißer (in beide Richtungen) auch dadurch glätten, dass wir eine logarithmische Skala verwenden. Vielleicht wäre ein Ansatz auch unsere Erhebung zu Gruppieren,so wie dies beim Alter bereits passiert -> 0-9 Ausleihen, 10-99 Ausliehen, 100-999 Ausleihen, etc.\n",
    "    In der Bildverarbeitung werden Schwellenwerte benutzt, um zu ermitteln welhes Pixel bei der Binarisierung bleiben soll und welches nicht. Gleiches gilt hier -> welche Erhebung bleibt und welche nicht. Es gibt dynamische, lokale und globale Schwellenwerte. Vielleicht wäre es ja möglich Otsu's Methode auf die Erhebung anzuwenden?"
   ]
  },
  {
   "cell_type": "code",
   "execution_count": 12,
   "id": "2d2e3fb0",
   "metadata": {},
   "outputs": [
    {
     "name": "stdout",
     "output_type": "stream",
     "text": [
      "0.015       0.0\n",
      "0.985    1757.0\n",
      "Name: Total Checkouts, dtype: float64\n"
     ]
    }
   ],
   "source": [
    "# identifies 1.5% of the data at both ends of the distribution\n",
    "alpha = 0.015\n",
    "quantile = df['Total Checkouts'].quantile([alpha, 1-alpha])\n",
    "print(quantile)"
   ]
  },
  {
   "cell_type": "code",
   "execution_count": 13,
   "id": "2b6804f4",
   "metadata": {},
   "outputs": [
    {
     "data": {
      "text/html": [
       "<div>\n",
       "<style scoped>\n",
       "    .dataframe tbody tr th:only-of-type {\n",
       "        vertical-align: middle;\n",
       "    }\n",
       "\n",
       "    .dataframe tbody tr th {\n",
       "        vertical-align: top;\n",
       "    }\n",
       "\n",
       "    .dataframe thead th {\n",
       "        text-align: right;\n",
       "    }\n",
       "</style>\n",
       "<table border=\"1\" class=\"dataframe\">\n",
       "  <thead>\n",
       "    <tr style=\"text-align: right;\">\n",
       "      <th></th>\n",
       "      <th>Patron Type Code</th>\n",
       "      <th>Patron Type Definition</th>\n",
       "      <th>Total Checkouts</th>\n",
       "      <th>Total Renewals</th>\n",
       "      <th>Age Range</th>\n",
       "      <th>Home Library Code</th>\n",
       "      <th>Home Library Definition</th>\n",
       "      <th>Circulation Active Month</th>\n",
       "      <th>Circulation Active Year</th>\n",
       "      <th>Notice Preference Code</th>\n",
       "      <th>Notice Preference Definition</th>\n",
       "      <th>Provided Email Address</th>\n",
       "      <th>Year Patron Registered</th>\n",
       "      <th>Outside of County</th>\n",
       "      <th>Supervisor District</th>\n",
       "    </tr>\n",
       "  </thead>\n",
       "  <tbody>\n",
       "    <tr>\n",
       "      <th>0</th>\n",
       "      <td>0</td>\n",
       "      <td>ADULT</td>\n",
       "      <td>0</td>\n",
       "      <td>0</td>\n",
       "      <td>20 to 24 years</td>\n",
       "      <td>P1</td>\n",
       "      <td>Park</td>\n",
       "      <td>None</td>\n",
       "      <td>None</td>\n",
       "      <td>z</td>\n",
       "      <td>email</td>\n",
       "      <td>True</td>\n",
       "      <td>2014</td>\n",
       "      <td>False</td>\n",
       "      <td>5.0</td>\n",
       "    </tr>\n",
       "    <tr>\n",
       "      <th>2</th>\n",
       "      <td>0</td>\n",
       "      <td>ADULT</td>\n",
       "      <td>0</td>\n",
       "      <td>0</td>\n",
       "      <td>45 to 54 years</td>\n",
       "      <td>P1</td>\n",
       "      <td>Park</td>\n",
       "      <td>None</td>\n",
       "      <td>None</td>\n",
       "      <td>a</td>\n",
       "      <td>print</td>\n",
       "      <td>False</td>\n",
       "      <td>2016</td>\n",
       "      <td>True</td>\n",
       "      <td>NaN</td>\n",
       "    </tr>\n",
       "    <tr>\n",
       "      <th>3</th>\n",
       "      <td>0</td>\n",
       "      <td>ADULT</td>\n",
       "      <td>0</td>\n",
       "      <td>0</td>\n",
       "      <td>25 to 34 years</td>\n",
       "      <td>X</td>\n",
       "      <td>Main Library</td>\n",
       "      <td>None</td>\n",
       "      <td>None</td>\n",
       "      <td>z</td>\n",
       "      <td>email</td>\n",
       "      <td>True</td>\n",
       "      <td>2015</td>\n",
       "      <td>False</td>\n",
       "      <td>3.0</td>\n",
       "    </tr>\n",
       "    <tr>\n",
       "      <th>5</th>\n",
       "      <td>3</td>\n",
       "      <td>SENIOR</td>\n",
       "      <td>0</td>\n",
       "      <td>0</td>\n",
       "      <td>65 to 74 years</td>\n",
       "      <td>C2</td>\n",
       "      <td>Chinatown</td>\n",
       "      <td>None</td>\n",
       "      <td>None</td>\n",
       "      <td>z</td>\n",
       "      <td>email</td>\n",
       "      <td>True</td>\n",
       "      <td>2015</td>\n",
       "      <td>True</td>\n",
       "      <td>NaN</td>\n",
       "    </tr>\n",
       "    <tr>\n",
       "      <th>11</th>\n",
       "      <td>0</td>\n",
       "      <td>ADULT</td>\n",
       "      <td>0</td>\n",
       "      <td>0</td>\n",
       "      <td>25 to 34 years</td>\n",
       "      <td>P7</td>\n",
       "      <td>Potrero</td>\n",
       "      <td>None</td>\n",
       "      <td>None</td>\n",
       "      <td>z</td>\n",
       "      <td>email</td>\n",
       "      <td>True</td>\n",
       "      <td>2013</td>\n",
       "      <td>True</td>\n",
       "      <td>NaN</td>\n",
       "    </tr>\n",
       "    <tr>\n",
       "      <th>...</th>\n",
       "      <td>...</td>\n",
       "      <td>...</td>\n",
       "      <td>...</td>\n",
       "      <td>...</td>\n",
       "      <td>...</td>\n",
       "      <td>...</td>\n",
       "      <td>...</td>\n",
       "      <td>...</td>\n",
       "      <td>...</td>\n",
       "      <td>...</td>\n",
       "      <td>...</td>\n",
       "      <td>...</td>\n",
       "      <td>...</td>\n",
       "      <td>...</td>\n",
       "      <td>...</td>\n",
       "    </tr>\n",
       "    <tr>\n",
       "      <th>423436</th>\n",
       "      <td>16</td>\n",
       "      <td>DIGITAL ACCESS CARD</td>\n",
       "      <td>0</td>\n",
       "      <td>0</td>\n",
       "      <td>10 to 19 years</td>\n",
       "      <td>P1</td>\n",
       "      <td>Park</td>\n",
       "      <td>None</td>\n",
       "      <td>None</td>\n",
       "      <td>z</td>\n",
       "      <td>email</td>\n",
       "      <td>True</td>\n",
       "      <td>2016</td>\n",
       "      <td>True</td>\n",
       "      <td>NaN</td>\n",
       "    </tr>\n",
       "    <tr>\n",
       "      <th>423437</th>\n",
       "      <td>1</td>\n",
       "      <td>JUVENILE</td>\n",
       "      <td>0</td>\n",
       "      <td>0</td>\n",
       "      <td>0 to 9 years</td>\n",
       "      <td>W4</td>\n",
       "      <td>Western Addition</td>\n",
       "      <td>None</td>\n",
       "      <td>None</td>\n",
       "      <td>z</td>\n",
       "      <td>email</td>\n",
       "      <td>True</td>\n",
       "      <td>2015</td>\n",
       "      <td>False</td>\n",
       "      <td>5.0</td>\n",
       "    </tr>\n",
       "    <tr>\n",
       "      <th>423438</th>\n",
       "      <td>0</td>\n",
       "      <td>ADULT</td>\n",
       "      <td>0</td>\n",
       "      <td>0</td>\n",
       "      <td>10 to 19 years</td>\n",
       "      <td>W4</td>\n",
       "      <td>Western Addition</td>\n",
       "      <td>None</td>\n",
       "      <td>None</td>\n",
       "      <td>z</td>\n",
       "      <td>email</td>\n",
       "      <td>True</td>\n",
       "      <td>2015</td>\n",
       "      <td>True</td>\n",
       "      <td>NaN</td>\n",
       "    </tr>\n",
       "    <tr>\n",
       "      <th>423439</th>\n",
       "      <td>1</td>\n",
       "      <td>JUVENILE</td>\n",
       "      <td>0</td>\n",
       "      <td>0</td>\n",
       "      <td>0 to 9 years</td>\n",
       "      <td>N4</td>\n",
       "      <td>Noe Valley/Sally Brunn</td>\n",
       "      <td>None</td>\n",
       "      <td>None</td>\n",
       "      <td>z</td>\n",
       "      <td>email</td>\n",
       "      <td>True</td>\n",
       "      <td>2015</td>\n",
       "      <td>False</td>\n",
       "      <td>8.0</td>\n",
       "    </tr>\n",
       "    <tr>\n",
       "      <th>423447</th>\n",
       "      <td>1</td>\n",
       "      <td>JUVENILE</td>\n",
       "      <td>0</td>\n",
       "      <td>0</td>\n",
       "      <td>0 to 9 years</td>\n",
       "      <td>E7</td>\n",
       "      <td>Eureka Valley/Harvey Milk Memorial</td>\n",
       "      <td>None</td>\n",
       "      <td>None</td>\n",
       "      <td>a</td>\n",
       "      <td>print</td>\n",
       "      <td>False</td>\n",
       "      <td>2015</td>\n",
       "      <td>False</td>\n",
       "      <td>8.0</td>\n",
       "    </tr>\n",
       "  </tbody>\n",
       "</table>\n",
       "<p>73578 rows × 15 columns</p>\n",
       "</div>"
      ],
      "text/plain": [
       "        Patron Type Code Patron Type Definition  Total Checkouts  \\\n",
       "0                      0                  ADULT                0   \n",
       "2                      0                  ADULT                0   \n",
       "3                      0                  ADULT                0   \n",
       "5                      3                 SENIOR                0   \n",
       "11                     0                  ADULT                0   \n",
       "...                  ...                    ...              ...   \n",
       "423436                16    DIGITAL ACCESS CARD                0   \n",
       "423437                 1               JUVENILE                0   \n",
       "423438                 0                  ADULT                0   \n",
       "423439                 1               JUVENILE                0   \n",
       "423447                 1               JUVENILE                0   \n",
       "\n",
       "        Total Renewals       Age Range Home Library Code  \\\n",
       "0                    0  20 to 24 years                P1   \n",
       "2                    0  45 to 54 years                P1   \n",
       "3                    0  25 to 34 years                 X   \n",
       "5                    0  65 to 74 years                C2   \n",
       "11                   0  25 to 34 years                P7   \n",
       "...                ...             ...               ...   \n",
       "423436               0  10 to 19 years                P1   \n",
       "423437               0    0 to 9 years                W4   \n",
       "423438               0  10 to 19 years                W4   \n",
       "423439               0    0 to 9 years                N4   \n",
       "423447               0    0 to 9 years                E7   \n",
       "\n",
       "                   Home Library Definition Circulation Active Month  \\\n",
       "0                                     Park                     None   \n",
       "2                                     Park                     None   \n",
       "3                             Main Library                     None   \n",
       "5                                Chinatown                     None   \n",
       "11                                 Potrero                     None   \n",
       "...                                    ...                      ...   \n",
       "423436                                Park                     None   \n",
       "423437                    Western Addition                     None   \n",
       "423438                    Western Addition                     None   \n",
       "423439              Noe Valley/Sally Brunn                     None   \n",
       "423447  Eureka Valley/Harvey Milk Memorial                     None   \n",
       "\n",
       "       Circulation Active Year Notice Preference Code  \\\n",
       "0                         None                      z   \n",
       "2                         None                      a   \n",
       "3                         None                      z   \n",
       "5                         None                      z   \n",
       "11                        None                      z   \n",
       "...                        ...                    ...   \n",
       "423436                    None                      z   \n",
       "423437                    None                      z   \n",
       "423438                    None                      z   \n",
       "423439                    None                      z   \n",
       "423447                    None                      a   \n",
       "\n",
       "       Notice Preference Definition  Provided Email Address  \\\n",
       "0                             email                    True   \n",
       "2                             print                   False   \n",
       "3                             email                    True   \n",
       "5                             email                    True   \n",
       "11                            email                    True   \n",
       "...                             ...                     ...   \n",
       "423436                        email                    True   \n",
       "423437                        email                    True   \n",
       "423438                        email                    True   \n",
       "423439                        email                    True   \n",
       "423447                        print                   False   \n",
       "\n",
       "        Year Patron Registered  Outside of County  Supervisor District  \n",
       "0                         2014              False                  5.0  \n",
       "2                         2016               True                  NaN  \n",
       "3                         2015              False                  3.0  \n",
       "5                         2015               True                  NaN  \n",
       "11                        2013               True                  NaN  \n",
       "...                        ...                ...                  ...  \n",
       "423436                    2016               True                  NaN  \n",
       "423437                    2015              False                  5.0  \n",
       "423438                    2015               True                  NaN  \n",
       "423439                    2015              False                  8.0  \n",
       "423447                    2015              False                  8.0  \n",
       "\n",
       "[73578 rows x 15 columns]"
      ]
     },
     "execution_count": 13,
     "metadata": {},
     "output_type": "execute_result"
    }
   ],
   "source": [
    "df_filtered1 = df[(df['Total Checkouts'] <= quantile[alpha])]\n",
    "df_filtered1"
   ]
  },
  {
   "cell_type": "code",
   "execution_count": 14,
   "id": "bbd4befb",
   "metadata": {},
   "outputs": [
    {
     "data": {
      "text/html": [
       "<div>\n",
       "<style scoped>\n",
       "    .dataframe tbody tr th:only-of-type {\n",
       "        vertical-align: middle;\n",
       "    }\n",
       "\n",
       "    .dataframe tbody tr th {\n",
       "        vertical-align: top;\n",
       "    }\n",
       "\n",
       "    .dataframe thead th {\n",
       "        text-align: right;\n",
       "    }\n",
       "</style>\n",
       "<table border=\"1\" class=\"dataframe\">\n",
       "  <thead>\n",
       "    <tr style=\"text-align: right;\">\n",
       "      <th></th>\n",
       "      <th>Patron Type Code</th>\n",
       "      <th>Patron Type Definition</th>\n",
       "      <th>Total Checkouts</th>\n",
       "      <th>Total Renewals</th>\n",
       "      <th>Age Range</th>\n",
       "      <th>Home Library Code</th>\n",
       "      <th>Home Library Definition</th>\n",
       "      <th>Circulation Active Month</th>\n",
       "      <th>Circulation Active Year</th>\n",
       "      <th>Notice Preference Code</th>\n",
       "      <th>Notice Preference Definition</th>\n",
       "      <th>Provided Email Address</th>\n",
       "      <th>Year Patron Registered</th>\n",
       "      <th>Outside of County</th>\n",
       "      <th>Supervisor District</th>\n",
       "    </tr>\n",
       "  </thead>\n",
       "  <tbody>\n",
       "    <tr>\n",
       "      <th>6</th>\n",
       "      <td>0</td>\n",
       "      <td>ADULT</td>\n",
       "      <td>3002</td>\n",
       "      <td>1689</td>\n",
       "      <td>25 to 34 years</td>\n",
       "      <td>P5</td>\n",
       "      <td>Portola</td>\n",
       "      <td>July</td>\n",
       "      <td>2016</td>\n",
       "      <td>p</td>\n",
       "      <td>phone</td>\n",
       "      <td>True</td>\n",
       "      <td>2004</td>\n",
       "      <td>False</td>\n",
       "      <td>9.0</td>\n",
       "    </tr>\n",
       "    <tr>\n",
       "      <th>32</th>\n",
       "      <td>0</td>\n",
       "      <td>ADULT</td>\n",
       "      <td>1989</td>\n",
       "      <td>3146</td>\n",
       "      <td>45 to 54 years</td>\n",
       "      <td>M6</td>\n",
       "      <td>Mission</td>\n",
       "      <td>May</td>\n",
       "      <td>2016</td>\n",
       "      <td>z</td>\n",
       "      <td>email</td>\n",
       "      <td>True</td>\n",
       "      <td>2003</td>\n",
       "      <td>False</td>\n",
       "      <td>8.0</td>\n",
       "    </tr>\n",
       "    <tr>\n",
       "      <th>102</th>\n",
       "      <td>0</td>\n",
       "      <td>ADULT</td>\n",
       "      <td>2630</td>\n",
       "      <td>1501</td>\n",
       "      <td>45 to 54 years</td>\n",
       "      <td>M4</td>\n",
       "      <td>Merced</td>\n",
       "      <td>July</td>\n",
       "      <td>2016</td>\n",
       "      <td>p</td>\n",
       "      <td>phone</td>\n",
       "      <td>False</td>\n",
       "      <td>2003</td>\n",
       "      <td>True</td>\n",
       "      <td>NaN</td>\n",
       "    </tr>\n",
       "    <tr>\n",
       "      <th>193</th>\n",
       "      <td>0</td>\n",
       "      <td>ADULT</td>\n",
       "      <td>8984</td>\n",
       "      <td>310</td>\n",
       "      <td>60 to 64 years</td>\n",
       "      <td>C2</td>\n",
       "      <td>Chinatown</td>\n",
       "      <td>July</td>\n",
       "      <td>2016</td>\n",
       "      <td>z</td>\n",
       "      <td>email</td>\n",
       "      <td>True</td>\n",
       "      <td>2003</td>\n",
       "      <td>True</td>\n",
       "      <td>NaN</td>\n",
       "    </tr>\n",
       "    <tr>\n",
       "      <th>212</th>\n",
       "      <td>0</td>\n",
       "      <td>ADULT</td>\n",
       "      <td>1805</td>\n",
       "      <td>261</td>\n",
       "      <td>20 to 24 years</td>\n",
       "      <td>R3</td>\n",
       "      <td>Richmond</td>\n",
       "      <td>December</td>\n",
       "      <td>2013</td>\n",
       "      <td>z</td>\n",
       "      <td>email</td>\n",
       "      <td>True</td>\n",
       "      <td>2003</td>\n",
       "      <td>False</td>\n",
       "      <td>1.0</td>\n",
       "    </tr>\n",
       "    <tr>\n",
       "      <th>...</th>\n",
       "      <td>...</td>\n",
       "      <td>...</td>\n",
       "      <td>...</td>\n",
       "      <td>...</td>\n",
       "      <td>...</td>\n",
       "      <td>...</td>\n",
       "      <td>...</td>\n",
       "      <td>...</td>\n",
       "      <td>...</td>\n",
       "      <td>...</td>\n",
       "      <td>...</td>\n",
       "      <td>...</td>\n",
       "      <td>...</td>\n",
       "      <td>...</td>\n",
       "      <td>...</td>\n",
       "    </tr>\n",
       "    <tr>\n",
       "      <th>423377</th>\n",
       "      <td>2</td>\n",
       "      <td>YOUNG ADULT</td>\n",
       "      <td>1847</td>\n",
       "      <td>1465</td>\n",
       "      <td>10 to 19 years</td>\n",
       "      <td>E9</td>\n",
       "      <td>Excelsior</td>\n",
       "      <td>July</td>\n",
       "      <td>2016</td>\n",
       "      <td>z</td>\n",
       "      <td>email</td>\n",
       "      <td>True</td>\n",
       "      <td>2003</td>\n",
       "      <td>False</td>\n",
       "      <td>11.0</td>\n",
       "    </tr>\n",
       "    <tr>\n",
       "      <th>423416</th>\n",
       "      <td>2</td>\n",
       "      <td>YOUNG ADULT</td>\n",
       "      <td>2428</td>\n",
       "      <td>1280</td>\n",
       "      <td>10 to 19 years</td>\n",
       "      <td>P3</td>\n",
       "      <td>Parkside</td>\n",
       "      <td>April</td>\n",
       "      <td>2016</td>\n",
       "      <td>z</td>\n",
       "      <td>email</td>\n",
       "      <td>True</td>\n",
       "      <td>2003</td>\n",
       "      <td>False</td>\n",
       "      <td>7.0</td>\n",
       "    </tr>\n",
       "    <tr>\n",
       "      <th>423422</th>\n",
       "      <td>2</td>\n",
       "      <td>YOUNG ADULT</td>\n",
       "      <td>3914</td>\n",
       "      <td>359</td>\n",
       "      <td>10 to 19 years</td>\n",
       "      <td>P5</td>\n",
       "      <td>Portola</td>\n",
       "      <td>July</td>\n",
       "      <td>2016</td>\n",
       "      <td>p</td>\n",
       "      <td>phone</td>\n",
       "      <td>False</td>\n",
       "      <td>2010</td>\n",
       "      <td>False</td>\n",
       "      <td>9.0</td>\n",
       "    </tr>\n",
       "    <tr>\n",
       "      <th>423423</th>\n",
       "      <td>0</td>\n",
       "      <td>ADULT</td>\n",
       "      <td>2592</td>\n",
       "      <td>487</td>\n",
       "      <td>10 to 19 years</td>\n",
       "      <td>I5</td>\n",
       "      <td>Ingleside</td>\n",
       "      <td>January</td>\n",
       "      <td>2016</td>\n",
       "      <td>p</td>\n",
       "      <td>phone</td>\n",
       "      <td>False</td>\n",
       "      <td>2003</td>\n",
       "      <td>False</td>\n",
       "      <td>10.0</td>\n",
       "    </tr>\n",
       "    <tr>\n",
       "      <th>423441</th>\n",
       "      <td>3</td>\n",
       "      <td>SENIOR</td>\n",
       "      <td>1812</td>\n",
       "      <td>0</td>\n",
       "      <td>75 years and over</td>\n",
       "      <td>C2</td>\n",
       "      <td>Chinatown</td>\n",
       "      <td>July</td>\n",
       "      <td>2016</td>\n",
       "      <td>p</td>\n",
       "      <td>phone</td>\n",
       "      <td>False</td>\n",
       "      <td>2012</td>\n",
       "      <td>False</td>\n",
       "      <td>3.0</td>\n",
       "    </tr>\n",
       "  </tbody>\n",
       "</table>\n",
       "<p>6358 rows × 15 columns</p>\n",
       "</div>"
      ],
      "text/plain": [
       "        Patron Type Code Patron Type Definition  Total Checkouts  \\\n",
       "6                      0                  ADULT             3002   \n",
       "32                     0                  ADULT             1989   \n",
       "102                    0                  ADULT             2630   \n",
       "193                    0                  ADULT             8984   \n",
       "212                    0                  ADULT             1805   \n",
       "...                  ...                    ...              ...   \n",
       "423377                 2            YOUNG ADULT             1847   \n",
       "423416                 2            YOUNG ADULT             2428   \n",
       "423422                 2            YOUNG ADULT             3914   \n",
       "423423                 0                  ADULT             2592   \n",
       "423441                 3                 SENIOR             1812   \n",
       "\n",
       "        Total Renewals          Age Range Home Library Code  \\\n",
       "6                 1689     25 to 34 years                P5   \n",
       "32                3146     45 to 54 years                M6   \n",
       "102               1501     45 to 54 years                M4   \n",
       "193                310     60 to 64 years                C2   \n",
       "212                261     20 to 24 years                R3   \n",
       "...                ...                ...               ...   \n",
       "423377            1465     10 to 19 years                E9   \n",
       "423416            1280     10 to 19 years                P3   \n",
       "423422             359     10 to 19 years                P5   \n",
       "423423             487     10 to 19 years                I5   \n",
       "423441               0  75 years and over                C2   \n",
       "\n",
       "       Home Library Definition Circulation Active Month  \\\n",
       "6                      Portola                     July   \n",
       "32                     Mission                      May   \n",
       "102                     Merced                     July   \n",
       "193                  Chinatown                     July   \n",
       "212                   Richmond                 December   \n",
       "...                        ...                      ...   \n",
       "423377               Excelsior                     July   \n",
       "423416                Parkside                    April   \n",
       "423422                 Portola                     July   \n",
       "423423               Ingleside                  January   \n",
       "423441               Chinatown                     July   \n",
       "\n",
       "       Circulation Active Year Notice Preference Code  \\\n",
       "6                         2016                      p   \n",
       "32                        2016                      z   \n",
       "102                       2016                      p   \n",
       "193                       2016                      z   \n",
       "212                       2013                      z   \n",
       "...                        ...                    ...   \n",
       "423377                    2016                      z   \n",
       "423416                    2016                      z   \n",
       "423422                    2016                      p   \n",
       "423423                    2016                      p   \n",
       "423441                    2016                      p   \n",
       "\n",
       "       Notice Preference Definition  Provided Email Address  \\\n",
       "6                             phone                    True   \n",
       "32                            email                    True   \n",
       "102                           phone                   False   \n",
       "193                           email                    True   \n",
       "212                           email                    True   \n",
       "...                             ...                     ...   \n",
       "423377                        email                    True   \n",
       "423416                        email                    True   \n",
       "423422                        phone                   False   \n",
       "423423                        phone                   False   \n",
       "423441                        phone                   False   \n",
       "\n",
       "        Year Patron Registered  Outside of County  Supervisor District  \n",
       "6                         2004              False                  9.0  \n",
       "32                        2003              False                  8.0  \n",
       "102                       2003               True                  NaN  \n",
       "193                       2003               True                  NaN  \n",
       "212                       2003              False                  1.0  \n",
       "...                        ...                ...                  ...  \n",
       "423377                    2003              False                 11.0  \n",
       "423416                    2003              False                  7.0  \n",
       "423422                    2010              False                  9.0  \n",
       "423423                    2003              False                 10.0  \n",
       "423441                    2012              False                  3.0  \n",
       "\n",
       "[6358 rows x 15 columns]"
      ]
     },
     "execution_count": 14,
     "metadata": {},
     "output_type": "execute_result"
    }
   ],
   "source": [
    "df_filtered2 = df[(df['Total Checkouts'] >= quantile[1-alpha])]\n",
    "df_filtered2"
   ]
  },
  {
   "cell_type": "code",
   "execution_count": 15,
   "id": "43e5f7fd",
   "metadata": {},
   "outputs": [
    {
     "data": {
      "text/html": [
       "<div>\n",
       "<style scoped>\n",
       "    .dataframe tbody tr th:only-of-type {\n",
       "        vertical-align: middle;\n",
       "    }\n",
       "\n",
       "    .dataframe tbody tr th {\n",
       "        vertical-align: top;\n",
       "    }\n",
       "\n",
       "    .dataframe thead th {\n",
       "        text-align: right;\n",
       "    }\n",
       "</style>\n",
       "<table border=\"1\" class=\"dataframe\">\n",
       "  <thead>\n",
       "    <tr style=\"text-align: right;\">\n",
       "      <th></th>\n",
       "      <th>Patron Type Code</th>\n",
       "      <th>Patron Type Definition</th>\n",
       "      <th>Total Checkouts</th>\n",
       "      <th>Total Renewals</th>\n",
       "      <th>Age Range</th>\n",
       "      <th>Home Library Code</th>\n",
       "      <th>Home Library Definition</th>\n",
       "      <th>Circulation Active Month</th>\n",
       "      <th>Circulation Active Year</th>\n",
       "      <th>Notice Preference Code</th>\n",
       "      <th>Notice Preference Definition</th>\n",
       "      <th>Provided Email Address</th>\n",
       "      <th>Year Patron Registered</th>\n",
       "      <th>Outside of County</th>\n",
       "      <th>Supervisor District</th>\n",
       "    </tr>\n",
       "  </thead>\n",
       "  <tbody>\n",
       "    <tr>\n",
       "      <th>1</th>\n",
       "      <td>0</td>\n",
       "      <td>ADULT</td>\n",
       "      <td>31</td>\n",
       "      <td>22</td>\n",
       "      <td>25 to 34 years</td>\n",
       "      <td>S7</td>\n",
       "      <td>Sunset</td>\n",
       "      <td>April</td>\n",
       "      <td>2016</td>\n",
       "      <td>z</td>\n",
       "      <td>email</td>\n",
       "      <td>True</td>\n",
       "      <td>2010</td>\n",
       "      <td>False</td>\n",
       "      <td>4.0</td>\n",
       "    </tr>\n",
       "    <tr>\n",
       "      <th>4</th>\n",
       "      <td>0</td>\n",
       "      <td>ADULT</td>\n",
       "      <td>126</td>\n",
       "      <td>11</td>\n",
       "      <td>45 to 54 years</td>\n",
       "      <td>M2</td>\n",
       "      <td>Marina</td>\n",
       "      <td>January</td>\n",
       "      <td>2016</td>\n",
       "      <td>z</td>\n",
       "      <td>email</td>\n",
       "      <td>True</td>\n",
       "      <td>2003</td>\n",
       "      <td>False</td>\n",
       "      <td>2.0</td>\n",
       "    </tr>\n",
       "    <tr>\n",
       "      <th>7</th>\n",
       "      <td>0</td>\n",
       "      <td>ADULT</td>\n",
       "      <td>4</td>\n",
       "      <td>0</td>\n",
       "      <td>25 to 34 years</td>\n",
       "      <td>C2</td>\n",
       "      <td>Chinatown</td>\n",
       "      <td>July</td>\n",
       "      <td>2014</td>\n",
       "      <td>p</td>\n",
       "      <td>phone</td>\n",
       "      <td>True</td>\n",
       "      <td>2014</td>\n",
       "      <td>False</td>\n",
       "      <td>5.0</td>\n",
       "    </tr>\n",
       "    <tr>\n",
       "      <th>8</th>\n",
       "      <td>0</td>\n",
       "      <td>ADULT</td>\n",
       "      <td>20</td>\n",
       "      <td>0</td>\n",
       "      <td>25 to 34 years</td>\n",
       "      <td>S7</td>\n",
       "      <td>Sunset</td>\n",
       "      <td>June</td>\n",
       "      <td>2015</td>\n",
       "      <td>z</td>\n",
       "      <td>email</td>\n",
       "      <td>True</td>\n",
       "      <td>2011</td>\n",
       "      <td>False</td>\n",
       "      <td>7.0</td>\n",
       "    </tr>\n",
       "    <tr>\n",
       "      <th>9</th>\n",
       "      <td>0</td>\n",
       "      <td>ADULT</td>\n",
       "      <td>3</td>\n",
       "      <td>1</td>\n",
       "      <td>60 to 64 years</td>\n",
       "      <td>A5</td>\n",
       "      <td>Anza</td>\n",
       "      <td>June</td>\n",
       "      <td>2016</td>\n",
       "      <td>z</td>\n",
       "      <td>email</td>\n",
       "      <td>True</td>\n",
       "      <td>2013</td>\n",
       "      <td>False</td>\n",
       "      <td>NaN</td>\n",
       "    </tr>\n",
       "    <tr>\n",
       "      <th>...</th>\n",
       "      <td>...</td>\n",
       "      <td>...</td>\n",
       "      <td>...</td>\n",
       "      <td>...</td>\n",
       "      <td>...</td>\n",
       "      <td>...</td>\n",
       "      <td>...</td>\n",
       "      <td>...</td>\n",
       "      <td>...</td>\n",
       "      <td>...</td>\n",
       "      <td>...</td>\n",
       "      <td>...</td>\n",
       "      <td>...</td>\n",
       "      <td>...</td>\n",
       "      <td>...</td>\n",
       "    </tr>\n",
       "    <tr>\n",
       "      <th>423442</th>\n",
       "      <td>2</td>\n",
       "      <td>YOUNG ADULT</td>\n",
       "      <td>608</td>\n",
       "      <td>364</td>\n",
       "      <td>10 to 19 years</td>\n",
       "      <td>S7</td>\n",
       "      <td>Sunset</td>\n",
       "      <td>July</td>\n",
       "      <td>2016</td>\n",
       "      <td>z</td>\n",
       "      <td>email</td>\n",
       "      <td>True</td>\n",
       "      <td>2003</td>\n",
       "      <td>False</td>\n",
       "      <td>7.0</td>\n",
       "    </tr>\n",
       "    <tr>\n",
       "      <th>423443</th>\n",
       "      <td>0</td>\n",
       "      <td>ADULT</td>\n",
       "      <td>291</td>\n",
       "      <td>13</td>\n",
       "      <td>10 to 19 years</td>\n",
       "      <td>P5</td>\n",
       "      <td>Portola</td>\n",
       "      <td>March</td>\n",
       "      <td>2015</td>\n",
       "      <td>p</td>\n",
       "      <td>phone</td>\n",
       "      <td>False</td>\n",
       "      <td>2009</td>\n",
       "      <td>False</td>\n",
       "      <td>9.0</td>\n",
       "    </tr>\n",
       "    <tr>\n",
       "      <th>423444</th>\n",
       "      <td>0</td>\n",
       "      <td>ADULT</td>\n",
       "      <td>15</td>\n",
       "      <td>11</td>\n",
       "      <td>60 to 64 years</td>\n",
       "      <td>M8</td>\n",
       "      <td>Mission Bay</td>\n",
       "      <td>July</td>\n",
       "      <td>2016</td>\n",
       "      <td>z</td>\n",
       "      <td>email</td>\n",
       "      <td>True</td>\n",
       "      <td>2016</td>\n",
       "      <td>False</td>\n",
       "      <td>6.0</td>\n",
       "    </tr>\n",
       "    <tr>\n",
       "      <th>423445</th>\n",
       "      <td>5</td>\n",
       "      <td>STAFF</td>\n",
       "      <td>208</td>\n",
       "      <td>58</td>\n",
       "      <td>0 to 9 years</td>\n",
       "      <td>B4</td>\n",
       "      <td>Bernal Heights</td>\n",
       "      <td>July</td>\n",
       "      <td>2016</td>\n",
       "      <td>z</td>\n",
       "      <td>email</td>\n",
       "      <td>True</td>\n",
       "      <td>2014</td>\n",
       "      <td>False</td>\n",
       "      <td>9.0</td>\n",
       "    </tr>\n",
       "    <tr>\n",
       "      <th>423446</th>\n",
       "      <td>0</td>\n",
       "      <td>ADULT</td>\n",
       "      <td>26</td>\n",
       "      <td>0</td>\n",
       "      <td>10 to 19 years</td>\n",
       "      <td>M6</td>\n",
       "      <td>Mission</td>\n",
       "      <td>April</td>\n",
       "      <td>2015</td>\n",
       "      <td>z</td>\n",
       "      <td>email</td>\n",
       "      <td>True</td>\n",
       "      <td>2003</td>\n",
       "      <td>False</td>\n",
       "      <td>9.0</td>\n",
       "    </tr>\n",
       "  </tbody>\n",
       "</table>\n",
       "<p>343512 rows × 15 columns</p>\n",
       "</div>"
      ],
      "text/plain": [
       "        Patron Type Code Patron Type Definition  Total Checkouts  \\\n",
       "1                      0                  ADULT               31   \n",
       "4                      0                  ADULT              126   \n",
       "7                      0                  ADULT                4   \n",
       "8                      0                  ADULT               20   \n",
       "9                      0                  ADULT                3   \n",
       "...                  ...                    ...              ...   \n",
       "423442                 2            YOUNG ADULT              608   \n",
       "423443                 0                  ADULT              291   \n",
       "423444                 0                  ADULT               15   \n",
       "423445                 5                  STAFF              208   \n",
       "423446                 0                  ADULT               26   \n",
       "\n",
       "        Total Renewals       Age Range Home Library Code  \\\n",
       "1                   22  25 to 34 years                S7   \n",
       "4                   11  45 to 54 years                M2   \n",
       "7                    0  25 to 34 years                C2   \n",
       "8                    0  25 to 34 years                S7   \n",
       "9                    1  60 to 64 years                A5   \n",
       "...                ...             ...               ...   \n",
       "423442             364  10 to 19 years                S7   \n",
       "423443              13  10 to 19 years                P5   \n",
       "423444              11  60 to 64 years                M8   \n",
       "423445              58    0 to 9 years                B4   \n",
       "423446               0  10 to 19 years                M6   \n",
       "\n",
       "       Home Library Definition Circulation Active Month  \\\n",
       "1                       Sunset                    April   \n",
       "4                       Marina                  January   \n",
       "7                    Chinatown                     July   \n",
       "8                       Sunset                     June   \n",
       "9                         Anza                     June   \n",
       "...                        ...                      ...   \n",
       "423442                  Sunset                     July   \n",
       "423443                 Portola                    March   \n",
       "423444             Mission Bay                     July   \n",
       "423445          Bernal Heights                     July   \n",
       "423446                 Mission                    April   \n",
       "\n",
       "       Circulation Active Year Notice Preference Code  \\\n",
       "1                         2016                      z   \n",
       "4                         2016                      z   \n",
       "7                         2014                      p   \n",
       "8                         2015                      z   \n",
       "9                         2016                      z   \n",
       "...                        ...                    ...   \n",
       "423442                    2016                      z   \n",
       "423443                    2015                      p   \n",
       "423444                    2016                      z   \n",
       "423445                    2016                      z   \n",
       "423446                    2015                      z   \n",
       "\n",
       "       Notice Preference Definition  Provided Email Address  \\\n",
       "1                             email                    True   \n",
       "4                             email                    True   \n",
       "7                             phone                    True   \n",
       "8                             email                    True   \n",
       "9                             email                    True   \n",
       "...                             ...                     ...   \n",
       "423442                        email                    True   \n",
       "423443                        phone                   False   \n",
       "423444                        email                    True   \n",
       "423445                        email                    True   \n",
       "423446                        email                    True   \n",
       "\n",
       "        Year Patron Registered  Outside of County  Supervisor District  \n",
       "1                         2010              False                  4.0  \n",
       "4                         2003              False                  2.0  \n",
       "7                         2014              False                  5.0  \n",
       "8                         2011              False                  7.0  \n",
       "9                         2013              False                  NaN  \n",
       "...                        ...                ...                  ...  \n",
       "423442                    2003              False                  7.0  \n",
       "423443                    2009              False                  9.0  \n",
       "423444                    2016              False                  6.0  \n",
       "423445                    2014              False                  9.0  \n",
       "423446                    2003              False                  9.0  \n",
       "\n",
       "[343512 rows x 15 columns]"
      ]
     },
     "execution_count": 15,
     "metadata": {},
     "output_type": "execute_result"
    }
   ],
   "source": [
    "df_filtered3 = df[(df['Total Checkouts'] > quantile[alpha]) & (df['Total Checkouts'] < quantile[1-alpha])]\n",
    "df_filtered3"
   ]
  },
  {
   "cell_type": "code",
   "execution_count": 16,
   "id": "b0ce6293",
   "metadata": {},
   "outputs": [
    {
     "data": {
      "text/plain": [
       "205847.027758416"
      ]
     },
     "execution_count": 16,
     "metadata": {},
     "output_type": "execute_result"
    }
   ],
   "source": [
    "df['Total Checkouts'].var()"
   ]
  },
  {
   "cell_type": "code",
   "execution_count": 17,
   "id": "f9f5c739",
   "metadata": {},
   "outputs": [
    {
     "data": {
      "text/plain": [
       "453.7036783611259"
      ]
     },
     "execution_count": 17,
     "metadata": {},
     "output_type": "execute_result"
    }
   ],
   "source": [
    "df['Total Checkouts'].std()"
   ]
  },
  {
   "cell_type": "code",
   "execution_count": 18,
   "id": "d3e25982",
   "metadata": {},
   "outputs": [
    {
     "data": {
      "text/plain": [
       "205847.027758416"
      ]
     },
     "execution_count": 18,
     "metadata": {},
     "output_type": "execute_result"
    }
   ],
   "source": [
    "df['Total Checkouts'].std() * df['Total Checkouts'].std()"
   ]
  },
  {
   "cell_type": "code",
   "execution_count": 19,
   "id": "8986d116",
   "metadata": {},
   "outputs": [
    {
     "data": {
      "text/plain": [
       "True"
      ]
     },
     "execution_count": 19,
     "metadata": {},
     "output_type": "execute_result"
    }
   ],
   "source": [
    "df['Total Checkouts'].var() == df['Total Checkouts'].std() * df['Total Checkouts'].std()"
   ]
  },
  {
   "cell_type": "markdown",
   "id": "55ff212d",
   "metadata": {},
   "source": [
    "## 3.4 Varianz (15 Min)\n",
    "\n",
    "Welche Variable streut mehr: 'Total Checkouts' oder 'Total Renewals'? Vergleiche die Standardabweichungen und den Variationskoeffizienten miteinander.\n",
    "\n",
    "Standardabweichung bei TC ist sehr hoch, viel höher als bei TR -> allerdings für den Vergleich ungeeignet.\n",
    "VarKoeff ist bei TC bei 2,8 und bei TR bei 3,7!. VarKoeff ist dimensionslos, normalisiert und direkt vergleichbar. \n",
    "\n",
    "Total Renewals streut zu 34% mehr."
   ]
  },
  {
   "cell_type": "code",
   "execution_count": 20,
   "id": "6b6fc91b",
   "metadata": {},
   "outputs": [
    {
     "name": "stdout",
     "output_type": "stream",
     "text": [
      "161.98209697530748\n",
      "453.7036783611259\n",
      "2.8009495298130904\n"
     ]
    }
   ],
   "source": [
    "TC_mean = df['Total Checkouts'].mean()\n",
    "TC_std = df['Total Checkouts'].std()\n",
    "TC_cv = TC_std/TC_mean\n",
    "print(TC_mean)\n",
    "print(TC_std)\n",
    "print(TC_cv)"
   ]
  },
  {
   "cell_type": "code",
   "execution_count": 21,
   "id": "fe7cef33",
   "metadata": {},
   "outputs": [
    {
     "name": "stdout",
     "output_type": "stream",
     "text": [
      "59.657327464056976\n",
      "225.0099169494503\n",
      "3.7717062851167245\n"
     ]
    }
   ],
   "source": [
    "TR_mean = df['Total Renewals'].mean()\n",
    "TR_std = df['Total Renewals'].std()\n",
    "TR_cv = TR_std/TR_mean\n",
    "print(TR_mean)\n",
    "print(TR_std)\n",
    "print(TR_cv)"
   ]
  },
  {
   "cell_type": "code",
   "execution_count": 22,
   "id": "254baec4",
   "metadata": {},
   "outputs": [
    {
     "data": {
      "text/plain": [
       "0.346581309292072"
      ]
     },
     "execution_count": 22,
     "metadata": {},
     "output_type": "execute_result"
    }
   ],
   "source": [
    "TR_cv/TC_cv -1"
   ]
  },
  {
   "cell_type": "code",
   "execution_count": 23,
   "id": "40ee9469",
   "metadata": {},
   "outputs": [
    {
     "data": {
      "text/plain": [
       "35907"
      ]
     },
     "execution_count": 23,
     "metadata": {},
     "output_type": "execute_result"
    }
   ],
   "source": [
    "# Spannweite\n",
    "df['Total Checkouts'].max() - df['Total Checkouts'].min()"
   ]
  },
  {
   "cell_type": "code",
   "execution_count": 24,
   "id": "610ffd98",
   "metadata": {},
   "outputs": [
    {
     "data": {
      "text/plain": [
       "111.0"
      ]
     },
     "execution_count": 24,
     "metadata": {},
     "output_type": "execute_result"
    }
   ],
   "source": [
    "# Interquantilabstand\n",
    "df['Total Checkouts'].quantile(q=0.75) - df['Total Checkouts'].quantile(q=0.25)"
   ]
  },
  {
   "cell_type": "markdown",
   "id": "e813b3c6",
   "metadata": {},
   "source": [
    "## 3.5 Exkurs: Ausreißerentfernung II (30 Min)\n",
    "\n",
    "    Identifiziere positive Ausreißer in der Spalte Total Checkouts. Ausreißer werden jetzt als Beobachtungen xi\n",
    "\n",
    "    definiert, für die gilt:\n",
    "    xi>x0.75+1.5xIQR\n",
    "\n",
    "    Das heißt, eine Beobachtungen gilt als Ausreißer, wenn sie größer als die Summe aus dem 75% Quantil und dem 1.5-fachen des Interquartilsabstands ist.\n",
    "\n",
    "    Wie viel Prozent der Beobachtungen im Datensatz werden mit dieser Methode als Ausreißer markiert?\n",
    "    -> 14.11%"
   ]
  },
  {
   "cell_type": "code",
   "execution_count": 25,
   "id": "80feba77",
   "metadata": {},
   "outputs": [
    {
     "name": "stdout",
     "output_type": "stream",
     "text": [
      "166.5\n"
     ]
    }
   ],
   "source": [
    "IQR=(df['Total Checkouts'].quantile(q=0.75) - df['Total Checkouts'].quantile(q=0.25))*1.5\n",
    "print(IQR)"
   ]
  },
  {
   "cell_type": "code",
   "execution_count": 26,
   "id": "70ef62f1",
   "metadata": {},
   "outputs": [
    {
     "name": "stdout",
     "output_type": "stream",
     "text": [
      "113.0\n"
     ]
    }
   ],
   "source": [
    "x075=df['Total Checkouts'].quantile(q=0.75)\n",
    "print(x075)"
   ]
  },
  {
   "cell_type": "code",
   "execution_count": 27,
   "id": "256be4bc",
   "metadata": {},
   "outputs": [
    {
     "name": "stdout",
     "output_type": "stream",
     "text": [
      "279.5\n"
     ]
    }
   ],
   "source": [
    "xi = x075 + IQR\n",
    "print(xi)"
   ]
  },
  {
   "cell_type": "code",
   "execution_count": 28,
   "id": "d9ae29cb",
   "metadata": {},
   "outputs": [
    {
     "data": {
      "text/plain": [
       "14.10940658593263"
      ]
     },
     "execution_count": 28,
     "metadata": {},
     "output_type": "execute_result"
    }
   ],
   "source": [
    "df_filtered5 = df[(df['Total Checkouts'] < xi)]\n",
    "((df.shape[0]-df_filtered5.shape[0])/df.shape[0])*100"
   ]
  },
  {
   "cell_type": "code",
   "execution_count": 29,
   "id": "deb3c824",
   "metadata": {},
   "outputs": [
    {
     "name": "stderr",
     "output_type": "stream",
     "text": [
      "/home/michael/anaconda3/lib/python3.9/site-packages/seaborn/distributions.py:2619: FutureWarning: `distplot` is a deprecated function and will be removed in a future version. Please adapt your code to use either `displot` (a figure-level function with similar flexibility) or `histplot` (an axes-level function for histograms).\n",
      "  warnings.warn(msg, FutureWarning)\n"
     ]
    },
    {
     "data": {
      "text/plain": [
       "<AxesSubplot:xlabel='Total Checkouts'>"
      ]
     },
     "execution_count": 29,
     "metadata": {},
     "output_type": "execute_result"
    },
    {
     "data": {
      "image/png": "[encoded data removed]",
      "text/plain": [
       "<Figure size 432x288 with 1 Axes>"
      ]
     },
     "metadata": {},
     "output_type": "display_data"
    }
   ],
   "source": [
    "import pandas as pd\n",
    "import seaborn as sns\n",
    "%matplotlib inline\n",
    "sns.set()\n",
    "\n",
    "df = pd.read_csv(\"../data/Library_Usage.csv\")\n",
    "sns.distplot(df['Total Checkouts'], kde=False)"
   ]
  },
  {
   "cell_type": "markdown",
   "id": "caed7ec1",
   "metadata": {},
   "source": [
    "## 3.7 Exkurs: Ausreißerentfernung III (30 Min)\n",
    "\n",
    "    Erstelle eine neue Spalte 'Total Checkouts Sqrt', die die Wurzel über die Spalte Total Checkouts enthält. Die Wurzel für jede Beobachtung kannst Du mit df['Total Checkouts']**(0.5) berechnen.\n",
    "    -> erledigt\n",
    "    \n",
    "    Schaue Dir das Histogramm von 'Total Checkouts Sqrt' an und charakterisiere die Verteilung.\n",
    "    -> linkssteile univariate Verteilung\n",
    "    \n",
    "    Vergleiche diese Methode mit den vorherigen zwei Verfahren zur Ausreißerbehandlung (Aufgaben 3.3 und 3.5). Welche Methode findest Du besser geeignet, um mit fehlenden Werten umzugehen?\n",
    "    -> die Methode die Wurzel zu ziehen, ist einfach und eingängig und leicht zu visualisieren. wir müssen trotzdem noch die Methoden aus 3.3 und 3.5 anwenden, um festzulegen was überhaupt ein Ausreißer ist. Da wir aber normalisiertere Werte haben, sind extreme Ausreißer weiterhin stark abgesetzt, wohingegen großer Unterschiede kleiner geworden sind. Die Daten zu glätten ist damit eine sinnvolle Methode, weil danach nur noch 7,12% der Daten als Ausreißer betrachtet werden, wenn wir die Methode aus 3.5 anwenden. Spannend wäre nun noch die Frage nach dem Logarithmus (dekadisch)...schlägt fehlt, weil wir 0-Werte haben (Null Ausleihen!), aber auch, weil anschließend nicht ordentlich per Interquantil & Co. gefiltert werden kann -> es entstehen durch das Aufsummieren Werte, die in der Logarithmischen Skala garnicht mehr vorkommen und damit wird plötzlich nichts mehr Ausreißer -> sinnvoll oder nicht?!\n",
    "    \n",
    "    Fallen Dir Vor- und Nachteile der jeweiligen Methoden ein?\n",
    "    -> 3.3 -> sehr simpel, weil man in der Häufigkeitsverteilung einfach eine bestimmte Menge wegschneidet -> top,bottom 1% z.B. -> dadurch aber auch sehr ungenau, weil man dabei eigentlich nicht auf die Daten eingeht, sondern pauschal 2% rauswirft\n",
    "    -> 3.5 -> mathematisch anspruchsvoller und auch nicht mehr leicht nachvollziehbar. Man erhält bessere Grenzen, innerhalb derer man Werte entfernt -> mathematisch aber schwierig, weil die Summe dazu führen kann, dass der Grenzwert über dem tatsächlichen Maximalwert der Zahlenreihe liegt -> bei Wurzel noch ok, bei logarithmus nicht mehr.\n",
    "    -> Zahlen glätten ist defintiv eine wichtige und notwendige Strategie, um sinnvoll mich so unterschiedlichen Zahlen umzugehen.\n",
    "    -> Es muss vermutlich immer im Einzelfall entschieden werden, welche Methode sich anbietet um die sich darbietenden Zahlen sinnvoll zu analysieren!"
   ]
  },
  {
   "cell_type": "code",
   "execution_count": 30,
   "id": "41642a46",
   "metadata": {},
   "outputs": [],
   "source": [
    "df['Total Checkouts Sqrt']=df['Total Checkouts']**(0.5)"
   ]
  },
  {
   "cell_type": "code",
   "execution_count": 31,
   "id": "48530cdb",
   "metadata": {
    "scrolled": true
   },
   "outputs": [
    {
     "data": {
      "text/plain": [
       "<AxesSubplot:xlabel='Total Checkouts Sqrt'>"
      ]
     },
     "execution_count": 31,
     "metadata": {},
     "output_type": "execute_result"
    },
    {
     "data": {
      "image/png": "[encoded data removed]",
      "text/plain": [
       "<Figure size 432x288 with 1 Axes>"
      ]
     },
     "metadata": {},
     "output_type": "display_data"
    }
   ],
   "source": [
    "sns.distplot(df['Total Checkouts Sqrt'], kde=False)"
   ]
  },
  {
   "cell_type": "code",
   "execution_count": 32,
   "id": "505ca8ad",
   "metadata": {},
   "outputs": [
    {
     "name": "stdout",
     "output_type": "stream",
     "text": [
      "13.823898375542331\n"
     ]
    }
   ],
   "source": [
    "IQR=(df['Total Checkouts Sqrt'].quantile(q=0.75) - df['Total Checkouts Sqrt'].quantile(q=0.25))*1.5\n",
    "print(IQR)"
   ]
  },
  {
   "cell_type": "code",
   "execution_count": 33,
   "id": "6ac8c65b",
   "metadata": {},
   "outputs": [
    {
     "name": "stdout",
     "output_type": "stream",
     "text": [
      "10.63014581273465\n"
     ]
    }
   ],
   "source": [
    "x075=df['Total Checkouts Sqrt'].quantile(q=0.75)\n",
    "print(x075)"
   ]
  },
  {
   "cell_type": "code",
   "execution_count": 34,
   "id": "32e6582b",
   "metadata": {},
   "outputs": [
    {
     "name": "stdout",
     "output_type": "stream",
     "text": [
      "24.45404418827698\n"
     ]
    }
   ],
   "source": [
    "xi = x075 + IQR\n",
    "print(xi)"
   ]
  },
  {
   "cell_type": "code",
   "execution_count": 35,
   "id": "7dfa26a2",
   "metadata": {},
   "outputs": [
    {
     "data": {
      "text/plain": [
       "7.1264948706806965"
      ]
     },
     "execution_count": 35,
     "metadata": {},
     "output_type": "execute_result"
    }
   ],
   "source": [
    "df_filtered_sqrt = df[(df['Total Checkouts Sqrt'] < xi)]\n",
    "((df.shape[0]-df_filtered_sqrt.shape[0])/df.shape[0])*100"
   ]
  },
  {
   "cell_type": "code",
   "execution_count": 36,
   "id": "a318c4ef",
   "metadata": {},
   "outputs": [],
   "source": [
    "# 7,12% sind nunmehr nur noch Ausreißer, weil wir die Zahlen geglättet (normalisiert) haben."
   ]
  },
  {
   "cell_type": "code",
   "execution_count": 37,
   "id": "441c2af1",
   "metadata": {},
   "outputs": [
    {
     "name": "stderr",
     "output_type": "stream",
     "text": [
      "/home/michael/anaconda3/lib/python3.9/site-packages/pandas/core/arraylike.py:364: RuntimeWarning: divide by zero encountered in log10\n",
      "  result = getattr(ufunc, method)(*inputs, **kwargs)\n"
     ]
    }
   ],
   "source": [
    "import numpy as np\n",
    "\n",
    "df['Total Checkouts Log10']=np.log10(df['Total Checkouts'])"
   ]
  },
  {
   "cell_type": "code",
   "execution_count": 38,
   "id": "2795f329",
   "metadata": {},
   "outputs": [
    {
     "data": {
      "text/plain": [
       "0             -inf\n",
       "1         1.491362\n",
       "2             -inf\n",
       "3             -inf\n",
       "4         2.100371\n",
       "            ...   \n",
       "423443    2.463893\n",
       "423444    1.176091\n",
       "423445    2.318063\n",
       "423446    1.414973\n",
       "423447        -inf\n",
       "Name: Total Checkouts Log10, Length: 423448, dtype: float64"
      ]
     },
     "execution_count": 38,
     "metadata": {},
     "output_type": "execute_result"
    }
   ],
   "source": [
    "df['Total Checkouts Log10']"
   ]
  },
  {
   "cell_type": "code",
   "execution_count": 39,
   "id": "21bceca9",
   "metadata": {},
   "outputs": [
    {
     "name": "stdout",
     "output_type": "stream",
     "text": [
      "2.628072671729158\n"
     ]
    }
   ],
   "source": [
    "IQR=(df['Total Checkouts Log10'].quantile(q=0.75) - df['Total Checkouts Log10'].quantile(q=0.25))*1.5\n",
    "print(IQR)"
   ]
  },
  {
   "cell_type": "code",
   "execution_count": 40,
   "id": "3db72f85",
   "metadata": {},
   "outputs": [
    {
     "name": "stdout",
     "output_type": "stream",
     "text": [
      "2.05307844348342\n"
     ]
    }
   ],
   "source": [
    "x075=df['Total Checkouts Log10'].quantile(q=0.75)\n",
    "print(x075)"
   ]
  },
  {
   "cell_type": "code",
   "execution_count": 41,
   "id": "c4761061",
   "metadata": {},
   "outputs": [
    {
     "name": "stdout",
     "output_type": "stream",
     "text": [
      "4.681151115212578\n"
     ]
    }
   ],
   "source": [
    "xi = x075 + IQR\n",
    "print(xi)"
   ]
  },
  {
   "cell_type": "code",
   "execution_count": 42,
   "id": "5a9f9212",
   "metadata": {},
   "outputs": [
    {
     "data": {
      "text/plain": [
       "4.555179121698849"
      ]
     },
     "execution_count": 42,
     "metadata": {},
     "output_type": "execute_result"
    }
   ],
   "source": [
    "# Abstand zu hoch, weil maximalwert überschritten\n",
    "df['Total Checkouts Log10'].max()\n"
   ]
  },
  {
   "cell_type": "code",
   "execution_count": 43,
   "id": "fb1343f6",
   "metadata": {},
   "outputs": [
    {
     "data": {
      "text/plain": [
       "0.0"
      ]
     },
     "execution_count": 43,
     "metadata": {},
     "output_type": "execute_result"
    }
   ],
   "source": [
    "df_filtered_log10 = df[(df['Total Checkouts Log10'] < xi)]\n",
    "((df.shape[0]-df_filtered_log10.shape[0])/df.shape[0])*100"
   ]
  },
  {
   "cell_type": "code",
   "execution_count": 44,
   "id": "9585d4e5",
   "metadata": {},
   "outputs": [
    {
     "data": {
      "text/plain": [
       "<AxesSubplot:xlabel='Total Checkouts Log10'>"
      ]
     },
     "execution_count": 44,
     "metadata": {},
     "output_type": "execute_result"
    },
    {
     "data": {
      "image/png": "[encoded data removed]",
      "text/plain": [
       "<Figure size 432x288 with 1 Axes>"
      ]
     },
     "metadata": {},
     "output_type": "display_data"
    }
   ],
   "source": [
    "# infinite Werte machen probleme beim plotten\n",
    "# sns.distplot(df['Total Checkouts Log10'], kde=False)\n",
    "df['Total Checkouts Log10'].replace([np.inf, -np.inf], np.nan, inplace=True)\n",
    "df['Total Checkouts Log10']=df['Total Checkouts Log10'].dropna()\n",
    "sns.distplot(df['Total Checkouts Log10'], bins=100, kde=False)"
   ]
  },
  {
   "cell_type": "code",
   "execution_count": 45,
   "id": "05a4f3d7",
   "metadata": {},
   "outputs": [
    {
     "name": "stdout",
     "output_type": "stream",
     "text": [
      "0.015     0.000000\n",
      "0.985    41.916584\n",
      "Name: Total Checkouts Sqrt, dtype: float64\n"
     ]
    }
   ],
   "source": [
    "alpha = 0.015\n",
    "quantile = df['Total Checkouts Sqrt'].quantile([alpha, 1-alpha])\n",
    "print(quantile)"
   ]
  },
  {
   "cell_type": "code",
   "execution_count": 46,
   "id": "85ac7911",
   "metadata": {},
   "outputs": [
    {
     "name": "stdout",
     "output_type": "stream",
     "text": [
      "0.015    0.000000\n",
      "0.985    3.283753\n",
      "Name: Total Checkouts Log10, dtype: float64\n"
     ]
    }
   ],
   "source": [
    "alpha = 0.015\n",
    "quantile = df['Total Checkouts Log10'].quantile([alpha, 1-alpha])\n",
    "print(quantile)"
   ]
  },
  {
   "cell_type": "markdown",
   "id": "7a763f44",
   "metadata": {},
   "source": [
    "## Kreuztabellen"
   ]
  },
  {
   "cell_type": "code",
   "execution_count": 47,
   "id": "2a0d14ed",
   "metadata": {},
   "outputs": [
    {
     "data": {
      "text/html": [
       "<div>\n",
       "<style scoped>\n",
       "    .dataframe tbody tr th:only-of-type {\n",
       "        vertical-align: middle;\n",
       "    }\n",
       "\n",
       "    .dataframe tbody tr th {\n",
       "        vertical-align: top;\n",
       "    }\n",
       "\n",
       "    .dataframe thead th {\n",
       "        text-align: right;\n",
       "    }\n",
       "</style>\n",
       "<table border=\"1\" class=\"dataframe\">\n",
       "  <thead>\n",
       "    <tr style=\"text-align: right;\">\n",
       "      <th>Notice Preference Definition</th>\n",
       "      <th>email</th>\n",
       "      <th>phone</th>\n",
       "      <th>print</th>\n",
       "      <th>All</th>\n",
       "    </tr>\n",
       "    <tr>\n",
       "      <th>Provided Email Address</th>\n",
       "      <th></th>\n",
       "      <th></th>\n",
       "      <th></th>\n",
       "      <th></th>\n",
       "    </tr>\n",
       "  </thead>\n",
       "  <tbody>\n",
       "    <tr>\n",
       "      <th>False</th>\n",
       "      <td>95</td>\n",
       "      <td>58362</td>\n",
       "      <td>28569</td>\n",
       "      <td>87026</td>\n",
       "    </tr>\n",
       "    <tr>\n",
       "      <th>True</th>\n",
       "      <td>323842</td>\n",
       "      <td>9810</td>\n",
       "      <td>2767</td>\n",
       "      <td>336419</td>\n",
       "    </tr>\n",
       "    <tr>\n",
       "      <th>All</th>\n",
       "      <td>323937</td>\n",
       "      <td>68172</td>\n",
       "      <td>31336</td>\n",
       "      <td>423445</td>\n",
       "    </tr>\n",
       "  </tbody>\n",
       "</table>\n",
       "</div>"
      ],
      "text/plain": [
       "Notice Preference Definition   email  phone  print     All\n",
       "Provided Email Address                                    \n",
       "False                             95  58362  28569   87026\n",
       "True                          323842   9810   2767  336419\n",
       "All                           323937  68172  31336  423445"
      ]
     },
     "execution_count": 47,
     "metadata": {},
     "output_type": "execute_result"
    }
   ],
   "source": [
    "import pandas as pd\n",
    "\n",
    "df = pd.read_csv(\n",
    "    \"../data/Library_Usage.csv\", \n",
    "    na_values=\"none\"\n",
    ")\n",
    "pd.crosstab(\n",
    "    df['Provided Email Address'],\n",
    "    df['Notice Preference Definition'],\n",
    "    margins=True\n",
    ")"
   ]
  },
  {
   "cell_type": "code",
   "execution_count": 48,
   "id": "fa06667f",
   "metadata": {},
   "outputs": [
    {
     "data": {
      "text/html": [
       "<div>\n",
       "<style scoped>\n",
       "    .dataframe tbody tr th:only-of-type {\n",
       "        vertical-align: middle;\n",
       "    }\n",
       "\n",
       "    .dataframe tbody tr th {\n",
       "        vertical-align: top;\n",
       "    }\n",
       "\n",
       "    .dataframe thead th {\n",
       "        text-align: right;\n",
       "    }\n",
       "</style>\n",
       "<table border=\"1\" class=\"dataframe\">\n",
       "  <thead>\n",
       "    <tr style=\"text-align: right;\">\n",
       "      <th>Notice Preference Definition</th>\n",
       "      <th>email</th>\n",
       "      <th>phone</th>\n",
       "      <th>print</th>\n",
       "      <th>All</th>\n",
       "    </tr>\n",
       "    <tr>\n",
       "      <th>Provided Email Address</th>\n",
       "      <th></th>\n",
       "      <th></th>\n",
       "      <th></th>\n",
       "      <th></th>\n",
       "    </tr>\n",
       "  </thead>\n",
       "  <tbody>\n",
       "    <tr>\n",
       "      <th>False</th>\n",
       "      <td>0.000293</td>\n",
       "      <td>0.856099</td>\n",
       "      <td>0.911699</td>\n",
       "      <td>0.205519</td>\n",
       "    </tr>\n",
       "    <tr>\n",
       "      <th>True</th>\n",
       "      <td>0.999707</td>\n",
       "      <td>0.143901</td>\n",
       "      <td>0.088301</td>\n",
       "      <td>0.794481</td>\n",
       "    </tr>\n",
       "  </tbody>\n",
       "</table>\n",
       "</div>"
      ],
      "text/plain": [
       "Notice Preference Definition     email     phone     print       All\n",
       "Provided Email Address                                              \n",
       "False                         0.000293  0.856099  0.911699  0.205519\n",
       "True                          0.999707  0.143901  0.088301  0.794481"
      ]
     },
     "execution_count": 48,
     "metadata": {},
     "output_type": "execute_result"
    }
   ],
   "source": [
    "pd.crosstab(\n",
    "    df['Provided Email Address'],\n",
    "    df['Notice Preference Definition'],\n",
    "    margins=True, normalize=1\n",
    ")\n",
    "#normalize spalten"
   ]
  },
  {
   "cell_type": "code",
   "execution_count": 49,
   "id": "bb73f1f4",
   "metadata": {},
   "outputs": [
    {
     "data": {
      "text/html": [
       "<div>\n",
       "<style scoped>\n",
       "    .dataframe tbody tr th:only-of-type {\n",
       "        vertical-align: middle;\n",
       "    }\n",
       "\n",
       "    .dataframe tbody tr th {\n",
       "        vertical-align: top;\n",
       "    }\n",
       "\n",
       "    .dataframe thead th {\n",
       "        text-align: right;\n",
       "    }\n",
       "</style>\n",
       "<table border=\"1\" class=\"dataframe\">\n",
       "  <thead>\n",
       "    <tr style=\"text-align: right;\">\n",
       "      <th>Notice Preference Definition</th>\n",
       "      <th>email</th>\n",
       "      <th>phone</th>\n",
       "      <th>print</th>\n",
       "    </tr>\n",
       "    <tr>\n",
       "      <th>Provided Email Address</th>\n",
       "      <th></th>\n",
       "      <th></th>\n",
       "      <th></th>\n",
       "    </tr>\n",
       "  </thead>\n",
       "  <tbody>\n",
       "    <tr>\n",
       "      <th>False</th>\n",
       "      <td>0.001092</td>\n",
       "      <td>0.670627</td>\n",
       "      <td>0.328281</td>\n",
       "    </tr>\n",
       "    <tr>\n",
       "      <th>True</th>\n",
       "      <td>0.962615</td>\n",
       "      <td>0.029160</td>\n",
       "      <td>0.008225</td>\n",
       "    </tr>\n",
       "    <tr>\n",
       "      <th>All</th>\n",
       "      <td>0.765004</td>\n",
       "      <td>0.160994</td>\n",
       "      <td>0.074003</td>\n",
       "    </tr>\n",
       "  </tbody>\n",
       "</table>\n",
       "</div>"
      ],
      "text/plain": [
       "Notice Preference Definition     email     phone     print\n",
       "Provided Email Address                                    \n",
       "False                         0.001092  0.670627  0.328281\n",
       "True                          0.962615  0.029160  0.008225\n",
       "All                           0.765004  0.160994  0.074003"
      ]
     },
     "execution_count": 49,
     "metadata": {},
     "output_type": "execute_result"
    }
   ],
   "source": [
    "pd.crosstab(\n",
    "    df['Provided Email Address'],\n",
    "    df['Notice Preference Definition'],\n",
    "    margins=True, normalize=0\n",
    ")\n",
    "# normalize zeilen"
   ]
  },
  {
   "cell_type": "code",
   "execution_count": 50,
   "id": "ab2673f8",
   "metadata": {},
   "outputs": [
    {
     "data": {
      "text/plain": [
       "0.5893620279316908"
      ]
     },
     "execution_count": 50,
     "metadata": {},
     "output_type": "execute_result"
    }
   ],
   "source": [
    "import pandas as pd\n",
    "\n",
    "df = pd.read_csv(\"../data/Library_Usage.csv\")\n",
    "df['Total Checkouts'].corr(df['Total Renewals'])\n"
   ]
  },
  {
   "cell_type": "markdown",
   "id": "89589255",
   "metadata": {},
   "source": [
    "## Aufgabe 3.8\n",
    "3.8 Exkurs: Anscombe-Quartett (30 Min)\n",
    "\n",
    "Das Anscombe Quartett ist ein Datenstatz, der aus 4 bivariaten Verteilungen besteht. Über die Spaltennamen ['x1', 'y1'], ['x2', 'y2'], ..., ['x4', 'y4'] können die zusammengehörenden Datenpaare ausgewählt werden.\n",
    "\n",
    "    Lies den Datensatz ein.\n",
    "    Berechne den Mittelwert, Median und die Standardabweichung der Spalten.\n",
    "    Berechne jeweils die Korrelation zweier zusammenhängender Spalten [x<i>, y<i>].\n",
    "    Erstelle jeweils ein Streudiagram zweier zusammenhängender Spalten [x<i>, y<i>].\n",
    "    Was fällt Dir auf? Informiere Dich über den Datensatz hier."
   ]
  },
  {
   "cell_type": "code",
   "execution_count": 51,
   "id": "dc0d0da7",
   "metadata": {},
   "outputs": [
    {
     "data": {
      "text/html": [
       "<div>\n",
       "<style scoped>\n",
       "    .dataframe tbody tr th:only-of-type {\n",
       "        vertical-align: middle;\n",
       "    }\n",
       "\n",
       "    .dataframe tbody tr th {\n",
       "        vertical-align: top;\n",
       "    }\n",
       "\n",
       "    .dataframe thead th {\n",
       "        text-align: right;\n",
       "    }\n",
       "</style>\n",
       "<table border=\"1\" class=\"dataframe\">\n",
       "  <thead>\n",
       "    <tr style=\"text-align: right;\">\n",
       "      <th></th>\n",
       "      <th>x1</th>\n",
       "      <th>y1</th>\n",
       "      <th>x2</th>\n",
       "      <th>y2</th>\n",
       "      <th>x3</th>\n",
       "      <th>y3</th>\n",
       "      <th>x4</th>\n",
       "      <th>y4</th>\n",
       "    </tr>\n",
       "  </thead>\n",
       "  <tbody>\n",
       "    <tr>\n",
       "      <th>0</th>\n",
       "      <td>10</td>\n",
       "      <td>8.04</td>\n",
       "      <td>10</td>\n",
       "      <td>9.14</td>\n",
       "      <td>10</td>\n",
       "      <td>7.46</td>\n",
       "      <td>8</td>\n",
       "      <td>6.58</td>\n",
       "    </tr>\n",
       "    <tr>\n",
       "      <th>1</th>\n",
       "      <td>8</td>\n",
       "      <td>6.95</td>\n",
       "      <td>8</td>\n",
       "      <td>8.14</td>\n",
       "      <td>8</td>\n",
       "      <td>6.77</td>\n",
       "      <td>8</td>\n",
       "      <td>5.76</td>\n",
       "    </tr>\n",
       "    <tr>\n",
       "      <th>2</th>\n",
       "      <td>13</td>\n",
       "      <td>7.58</td>\n",
       "      <td>13</td>\n",
       "      <td>8.74</td>\n",
       "      <td>13</td>\n",
       "      <td>12.74</td>\n",
       "      <td>8</td>\n",
       "      <td>7.71</td>\n",
       "    </tr>\n",
       "    <tr>\n",
       "      <th>3</th>\n",
       "      <td>9</td>\n",
       "      <td>8.81</td>\n",
       "      <td>9</td>\n",
       "      <td>8.77</td>\n",
       "      <td>9</td>\n",
       "      <td>7.11</td>\n",
       "      <td>8</td>\n",
       "      <td>8.84</td>\n",
       "    </tr>\n",
       "    <tr>\n",
       "      <th>4</th>\n",
       "      <td>11</td>\n",
       "      <td>8.33</td>\n",
       "      <td>11</td>\n",
       "      <td>9.26</td>\n",
       "      <td>11</td>\n",
       "      <td>7.81</td>\n",
       "      <td>8</td>\n",
       "      <td>8.47</td>\n",
       "    </tr>\n",
       "    <tr>\n",
       "      <th>5</th>\n",
       "      <td>14</td>\n",
       "      <td>9.96</td>\n",
       "      <td>14</td>\n",
       "      <td>8.10</td>\n",
       "      <td>14</td>\n",
       "      <td>8.84</td>\n",
       "      <td>8</td>\n",
       "      <td>7.04</td>\n",
       "    </tr>\n",
       "    <tr>\n",
       "      <th>6</th>\n",
       "      <td>6</td>\n",
       "      <td>7.24</td>\n",
       "      <td>6</td>\n",
       "      <td>6.13</td>\n",
       "      <td>6</td>\n",
       "      <td>6.08</td>\n",
       "      <td>8</td>\n",
       "      <td>5.25</td>\n",
       "    </tr>\n",
       "    <tr>\n",
       "      <th>7</th>\n",
       "      <td>4</td>\n",
       "      <td>4.26</td>\n",
       "      <td>4</td>\n",
       "      <td>3.10</td>\n",
       "      <td>4</td>\n",
       "      <td>5.39</td>\n",
       "      <td>19</td>\n",
       "      <td>12.50</td>\n",
       "    </tr>\n",
       "    <tr>\n",
       "      <th>8</th>\n",
       "      <td>12</td>\n",
       "      <td>10.84</td>\n",
       "      <td>12</td>\n",
       "      <td>9.13</td>\n",
       "      <td>12</td>\n",
       "      <td>8.15</td>\n",
       "      <td>8</td>\n",
       "      <td>5.56</td>\n",
       "    </tr>\n",
       "    <tr>\n",
       "      <th>9</th>\n",
       "      <td>7</td>\n",
       "      <td>4.82</td>\n",
       "      <td>7</td>\n",
       "      <td>7.26</td>\n",
       "      <td>7</td>\n",
       "      <td>6.42</td>\n",
       "      <td>8</td>\n",
       "      <td>7.91</td>\n",
       "    </tr>\n",
       "    <tr>\n",
       "      <th>10</th>\n",
       "      <td>5</td>\n",
       "      <td>5.68</td>\n",
       "      <td>5</td>\n",
       "      <td>4.74</td>\n",
       "      <td>5</td>\n",
       "      <td>5.73</td>\n",
       "      <td>8</td>\n",
       "      <td>6.89</td>\n",
       "    </tr>\n",
       "  </tbody>\n",
       "</table>\n",
       "</div>"
      ],
      "text/plain": [
       "    x1     y1  x2    y2  x3     y3  x4     y4\n",
       "0   10   8.04  10  9.14  10   7.46   8   6.58\n",
       "1    8   6.95   8  8.14   8   6.77   8   5.76\n",
       "2   13   7.58  13  8.74  13  12.74   8   7.71\n",
       "3    9   8.81   9  8.77   9   7.11   8   8.84\n",
       "4   11   8.33  11  9.26  11   7.81   8   8.47\n",
       "5   14   9.96  14  8.10  14   8.84   8   7.04\n",
       "6    6   7.24   6  6.13   6   6.08   8   5.25\n",
       "7    4   4.26   4  3.10   4   5.39  19  12.50\n",
       "8   12  10.84  12  9.13  12   8.15   8   5.56\n",
       "9    7   4.82   7  7.26   7   6.42   8   7.91\n",
       "10   5   5.68   5  4.74   5   5.73   8   6.89"
      ]
     },
     "execution_count": 51,
     "metadata": {},
     "output_type": "execute_result"
    }
   ],
   "source": [
    "import pandas as pd\n",
    "\n",
    "df = pd.read_csv(\"../data/anscombe.csv\")\n",
    "df"
   ]
  },
  {
   "cell_type": "code",
   "execution_count": 52,
   "id": "40ad0e87",
   "metadata": {},
   "outputs": [
    {
     "data": {
      "text/plain": [
       "Index(['x1', 'y1', 'x2', 'y2', 'x3', 'y3', 'x4', 'y4'], dtype='object')"
      ]
     },
     "execution_count": 52,
     "metadata": {},
     "output_type": "execute_result"
    }
   ],
   "source": [
    "df.keys()"
   ]
  },
  {
   "cell_type": "code",
   "execution_count": 53,
   "id": "321180d1",
   "metadata": {},
   "outputs": [
    {
     "name": "stdout",
     "output_type": "stream",
     "text": [
      "x1\n",
      "mean: 9.0\n",
      "median: 9.0\n",
      "std: 3.3166247903554\n",
      "\n",
      "y1\n",
      "mean: 7.500909090909093\n",
      "median: 7.58\n",
      "std: 2.031568135925815\n",
      "\n",
      "x2\n",
      "mean: 9.0\n",
      "median: 9.0\n",
      "std: 3.3166247903554\n",
      "\n",
      "y2\n",
      "mean: 7.500909090909091\n",
      "median: 8.14\n",
      "std: 2.0316567355016177\n",
      "\n",
      "x3\n",
      "mean: 9.0\n",
      "median: 9.0\n",
      "std: 3.3166247903554\n",
      "\n",
      "y3\n",
      "mean: 7.500000000000001\n",
      "median: 7.11\n",
      "std: 2.030423601123667\n",
      "\n",
      "x4\n",
      "mean: 9.0\n",
      "median: 8.0\n",
      "std: 3.3166247903554\n",
      "\n",
      "y4\n",
      "mean: 7.50090909090909\n",
      "median: 7.04\n",
      "std: 2.0305785113876023\n",
      "\n"
     ]
    }
   ],
   "source": [
    "for i in df.keys():\n",
    "    print(i)\n",
    "    print(\"mean: \" + str(df[i].mean()))\n",
    "    print(\"median: \" + str(df[i].median()))\n",
    "    print(\"std: \" + str(df[i].std()))\n",
    "    print(\"\")"
   ]
  },
  {
   "cell_type": "code",
   "execution_count": 54,
   "id": "7c2d6989",
   "metadata": {},
   "outputs": [],
   "source": [
    "#df_keys = df.keys()\n",
    "#df[df_keys[0]].corr(df[df_keys[1]])\n",
    "#df[df_keys[2]].corr(df[df_keys[3]])\n",
    "#df[df_keys[4]].corr(df[df_keys[5]])\n",
    "#df[df_keys[6]].corr(df[df_keys[7]])"
   ]
  },
  {
   "cell_type": "code",
   "execution_count": 55,
   "id": "aeafa7e3",
   "metadata": {},
   "outputs": [
    {
     "name": "stdout",
     "output_type": "stream",
     "text": [
      "0.81642051634484\n",
      "0.8162365060002427\n",
      "0.8162867394895982\n",
      "0.8165214368885028\n"
     ]
    }
   ],
   "source": [
    "print(df['x1'].corr(df['y1']))\n",
    "print(df['x2'].corr(df['y2']))\n",
    "print(df['x3'].corr(df['y3']))\n",
    "print(df['x4'].corr(df['y4']))"
   ]
  },
  {
   "cell_type": "code",
   "execution_count": 56,
   "id": "6c9226d3",
   "metadata": {},
   "outputs": [],
   "source": [
    "df['corr1'] = df['x1'].corr(df['y1'])\n",
    "df['corr2'] = df['x2'].corr(df['y2'])\n",
    "df['corr3'] = df['x3'].corr(df['y3'])\n",
    "df['corr4'] = df['x4'].corr(df['y4'])"
   ]
  },
  {
   "cell_type": "code",
   "execution_count": 57,
   "id": "c8236383",
   "metadata": {},
   "outputs": [
    {
     "data": {
      "text/plain": [
       "<seaborn.axisgrid.FacetGrid at 0x7f5d04d18eb0>"
      ]
     },
     "execution_count": 57,
     "metadata": {},
     "output_type": "execute_result"
    },
    {
     "data": {
      "image/png": "[encoded data removed]",
      "text/plain": [
       "<Figure size 648x216 with 1 Axes>"
      ]
     },
     "metadata": {},
     "output_type": "display_data"
    }
   ],
   "source": [
    "import seaborn as sns\n",
    "import pandas as pd\n",
    "import numpy as np\n",
    "sns.set()\n",
    "    \n",
    "graph = sns.FacetGrid(col=\"corr1\", data=df, col_wrap=3)\n",
    "graph.map(sns.scatterplot, \"x1\", \"y1\")\n",
    "graph"
   ]
  },
  {
   "cell_type": "code",
   "execution_count": 58,
   "id": "42ab53e6",
   "metadata": {},
   "outputs": [
    {
     "data": {
      "text/plain": [
       "<seaborn.axisgrid.FacetGrid at 0x7f5d04d663d0>"
      ]
     },
     "execution_count": 58,
     "metadata": {},
     "output_type": "execute_result"
    },
    {
     "data": {
      "image/png": "[encoded data removed]",
      "text/plain": [
       "<Figure size 648x216 with 1 Axes>"
      ]
     },
     "metadata": {},
     "output_type": "display_data"
    }
   ],
   "source": [
    "graph = sns.FacetGrid(col=\"corr2\", data=df, col_wrap=3)\n",
    "graph.map(sns.scatterplot, \"x2\", \"y2\")\n",
    "graph"
   ]
  },
  {
   "cell_type": "code",
   "execution_count": 59,
   "id": "e293a09e",
   "metadata": {},
   "outputs": [
    {
     "data": {
      "text/plain": [
       "<seaborn.axisgrid.FacetGrid at 0x7f5d04cf5d30>"
      ]
     },
     "execution_count": 59,
     "metadata": {},
     "output_type": "execute_result"
    },
    {
     "data": {
      "image/png": "[encoded data removed]",
      "text/plain": [
       "<Figure size 648x216 with 1 Axes>"
      ]
     },
     "metadata": {},
     "output_type": "display_data"
    }
   ],
   "source": [
    "graph = sns.FacetGrid(col=\"corr3\", data=df, col_wrap=3)\n",
    "graph.map(sns.scatterplot, \"x3\", \"y3\")\n",
    "graph"
   ]
  },
  {
   "cell_type": "code",
   "execution_count": 60,
   "id": "4e7cf288",
   "metadata": {},
   "outputs": [
    {
     "data": {
      "text/plain": [
       "<seaborn.axisgrid.FacetGrid at 0x7f5d04c6f6a0>"
      ]
     },
     "execution_count": 60,
     "metadata": {},
     "output_type": "execute_result"
    },
    {
     "data": {
      "image/png": "[encoded data removed]",
      "text/plain": [
       "<Figure size 648x216 with 1 Axes>"
      ]
     },
     "metadata": {},
     "output_type": "display_data"
    }
   ],
   "source": [
    "graph = sns.FacetGrid(col=\"corr4\", data=df, col_wrap=3)\n",
    "graph.map(sns.scatterplot, \"x4\", \"y4\")\n",
    "graph"
   ]
  },
  {
   "cell_type": "markdown",
   "id": "635652f1",
   "metadata": {},
   "source": [
    "## 3.9 Balkendiagramme bei Fox News (15 Min)\n",
    "\n",
    "    Was fällt Dir an den folgenden Diagrammen von FoxNews auf?\n",
    "    -> es ist nur ein Ausschnitt aus y (oberes x-tel) oder es verwendet eine nicht-lineare Skala. Es ist irreführend, weil es den Abstand größer darstellt, als dieser tatsächlich ist\n",
    "    \n",
    "    Was würdest Du anders machen?\n",
    "    -> ganze Balken zeigen (unschön, weil unterschied ggf. schlecht sichtbar), daher ggf. übereinanderlegen\n",
    "    -> kennzeichnen, dass wir nur einen abschnitt sehen\n",
    "    -> Tortendiagram verwenden? macht ein anderes Diagram das besser?\n",
    "    -> wozu überhaupt Balken oder Diagram, wenn auch % geht -> 6/7,066 -> 0.84 -> 84%\n",
    "    \n",
    "    Welche Botschaft wollten die “Designer” vermutlich vermitteln? Passt die Botschaft mit den Daten zusammen? (s. auch Quelle und Hintergründe oder auch dieses Beispiel)\n",
    "    -> Botschaft -> das Ziel wurde verfehlt -> \"stark verfehlt\" usw.\n",
    "    -> nein, 84% erreicht ist ein guter Wert...oder der Sprung von 35% auf 39% ist 4% (absolut) bzw. 11% (relativ)"
   ]
  },
  {
   "cell_type": "code",
   "execution_count": 61,
   "id": "e71d139e",
   "metadata": {},
   "outputs": [],
   "source": [
    "import pandas as pd\n",
    "import matplotlib.pyplot as plt\n",
    "import seaborn as sns\n",
    "import numpy as np\n",
    "%matplotlib inline\n",
    "sns.set()\n",
    "\n",
    "# use sample to generate a random subsample\n",
    "df = pd.read_csv(\"../data/Library_Usage.csv\").sample(n=1000)"
   ]
  },
  {
   "cell_type": "code",
   "execution_count": 62,
   "id": "766863c7",
   "metadata": {},
   "outputs": [
    {
     "data": {
      "text/plain": [
       "<seaborn.axisgrid.FacetGrid at 0x7f5d04d339d0>"
      ]
     },
     "execution_count": 62,
     "metadata": {},
     "output_type": "execute_result"
    },
    {
     "data": {
      "image/png": "[encoded data removed]",
      "text/plain": [
       "<Figure size 360x360 with 1 Axes>"
      ]
     },
     "metadata": {},
     "output_type": "display_data"
    }
   ],
   "source": [
    "sns.relplot(x='Total Checkouts', y='Total Renewals', data=df)"
   ]
  },
  {
   "cell_type": "code",
   "execution_count": 63,
   "id": "5b522f9b",
   "metadata": {},
   "outputs": [
    {
     "data": {
      "text/plain": [
       "<seaborn.axisgrid.FacetGrid at 0x7f5d04ccfdc0>"
      ]
     },
     "execution_count": 63,
     "metadata": {},
     "output_type": "execute_result"
    },
    {
     "data": {
      "image/png": "[encoded data removed]",
      "text/plain": [
       "<Figure size 1080x360 with 1 Axes>"
      ]
     },
     "metadata": {},
     "output_type": "display_data"
    }
   ],
   "source": [
    "sns.relplot(x='Total Checkouts', y='Total Renewals', data=df, height=5, aspect=3)"
   ]
  },
  {
   "cell_type": "code",
   "execution_count": 64,
   "id": "322de36f",
   "metadata": {},
   "outputs": [
    {
     "data": {
      "text/plain": [
       "<Figure size 432x288 with 0 Axes>"
      ]
     },
     "metadata": {},
     "output_type": "display_data"
    }
   ],
   "source": [
    "plt.savefig('../tutorial.png', dpi=150)"
   ]
  },
  {
   "cell_type": "code",
   "execution_count": 65,
   "id": "abbf0388",
   "metadata": {},
   "outputs": [
    {
     "data": {
      "text/plain": [
       "<seaborn.axisgrid.FacetGrid at 0x7f5d04af8430>"
      ]
     },
     "execution_count": 65,
     "metadata": {},
     "output_type": "execute_result"
    },
    {
     "data": {
      "image/png": "[encoded data removed]",
      "text/plain": [
       "<Figure size 518.975x360 with 1 Axes>"
      ]
     },
     "metadata": {},
     "output_type": "display_data"
    }
   ],
   "source": [
    "sns.relplot(x='Total Checkouts', y='Total Renewals', \n",
    "                hue='Provided Email Address', style='Outside of County', \n",
    "                size='Year Patron Registered', data=df)"
   ]
  },
  {
   "cell_type": "code",
   "execution_count": 66,
   "id": "9c57afec",
   "metadata": {},
   "outputs": [
    {
     "data": {
      "text/plain": [
       "<seaborn.axisgrid.FacetGrid at 0x7f5d04b1bca0>"
      ]
     },
     "execution_count": 66,
     "metadata": {},
     "output_type": "execute_result"
    },
    {
     "data": {
      "image/png": "[encoded data removed]",
      "text/plain": [
       "<Figure size 865.05x720 with 4 Axes>"
      ]
     },
     "metadata": {},
     "output_type": "display_data"
    }
   ],
   "source": [
    "sns.relplot(x='Total Checkouts', y='Total Renewals', \n",
    "            size='Year Patron Registered',\n",
    "            row='Provided Email Address', col='Outside of County', data=df)"
   ]
  },
  {
   "cell_type": "code",
   "execution_count": 67,
   "id": "0bdc430c",
   "metadata": {},
   "outputs": [
    {
     "data": {
      "text/plain": [
       "<seaborn.axisgrid.FacetGrid at 0x7f5d0485e4c0>"
      ]
     },
     "execution_count": 67,
     "metadata": {},
     "output_type": "execute_result"
    },
    {
     "data": {
      "image/png": "[encoded data removed]",
      "text/plain": [
       "<Figure size 870.175x360 with 2 Axes>"
      ]
     },
     "metadata": {},
     "output_type": "display_data"
    }
   ],
   "source": [
    "sns.relplot(x='Total Checkouts', y='Total Renewals', \n",
    "            hue='Provided Email Address', \n",
    "            col='Outside of County',\n",
    "            palette=sns.color_palette('Accent', 2), \n",
    "            data=df)"
   ]
  },
  {
   "cell_type": "code",
   "execution_count": 68,
   "id": "db34f3fe",
   "metadata": {},
   "outputs": [
    {
     "data": {
      "text/plain": [
       "<seaborn.axisgrid.FacetGrid at 0x7f5d04003490>"
      ]
     },
     "execution_count": 68,
     "metadata": {},
     "output_type": "execute_result"
    },
    {
     "data": {
      "image/png": "[encoded data removed]",
      "text/plain": [
       "<Figure size 870.175x360 with 2 Axes>"
      ]
     },
     "metadata": {},
     "output_type": "display_data"
    }
   ],
   "source": [
    "# https://s3.amazonaws.com/codecademy-content/programs/dataviz-python/unit-5/seaborn-design-2/article2_image9.png\n",
    "sns.relplot(x='Total Checkouts', y='Total Renewals', \n",
    "            hue='Provided Email Address', \n",
    "            col='Outside of County',\n",
    "            palette=sns.color_palette('Spectral', 2), \n",
    "            data=df)"
   ]
  },
  {
   "cell_type": "code",
   "execution_count": 69,
   "id": "02becf40",
   "metadata": {},
   "outputs": [],
   "source": [
    "import pandas as pd\n",
    "import seaborn as sns\n",
    "import matplotlib.pyplot as plt\n",
    "import numpy as np\n",
    "# matplotlib inline\n",
    "sns.set()\n",
    "\n",
    "#df = pd.read_csv(\"../data/Library_Usage.csv\")"
   ]
  },
  {
   "cell_type": "code",
   "execution_count": 70,
   "id": "46b4dc84",
   "metadata": {},
   "outputs": [
    {
     "data": {
      "text/plain": [
       "<seaborn.axisgrid.FacetGrid at 0x7f5d03fafc10>"
      ]
     },
     "execution_count": 70,
     "metadata": {},
     "output_type": "execute_result"
    },
    {
     "data": {
      "image/png": "[encoded data removed]",
      "text/plain": [
       "<Figure size 360x360 with 1 Axes>"
      ]
     },
     "metadata": {},
     "output_type": "display_data"
    }
   ],
   "source": [
    "sns.catplot(y='Year Patron Registered',\n",
    "            data=df, kind='count', color=\"steelblue\")"
   ]
  },
  {
   "cell_type": "code",
   "execution_count": 71,
   "id": "fe87c548",
   "metadata": {},
   "outputs": [
    {
     "data": {
      "text/plain": [
       "<seaborn.axisgrid.FacetGrid at 0x7f5d03fd0ee0>"
      ]
     },
     "execution_count": 71,
     "metadata": {},
     "output_type": "execute_result"
    },
    {
     "data": {
      "image/png": "[encoded data removed]",
      "text/plain": [
       "<Figure size 510.175x360 with 1 Axes>"
      ]
     },
     "metadata": {},
     "output_type": "display_data"
    }
   ],
   "source": [
    "sns.catplot(y='Age Range', hue='Provided Email Address', \n",
    "            data=df, kind='count')"
   ]
  },
  {
   "cell_type": "code",
   "execution_count": 72,
   "id": "60edadfb",
   "metadata": {},
   "outputs": [
    {
     "data": {
      "text/plain": [
       "<seaborn.axisgrid.FacetGrid at 0x7f5d02936880>"
      ]
     },
     "execution_count": 72,
     "metadata": {},
     "output_type": "execute_result"
    },
    {
     "data": {
      "image/png": "[encoded data removed]",
      "text/plain": [
       "<Figure size 1440x1440 with 14 Axes>"
      ]
     },
     "metadata": {},
     "output_type": "display_data"
    }
   ],
   "source": [
    "sns.catplot(x='Patron Type Definition', \n",
    "            data=df, kind='count', \n",
    "            col='Year Patron Registered', col_wrap=4)"
   ]
  },
  {
   "cell_type": "code",
   "execution_count": 73,
   "id": "ac1faf43",
   "metadata": {},
   "outputs": [
    {
     "name": "stderr",
     "output_type": "stream",
     "text": [
      "/home/michael/anaconda3/lib/python3.9/site-packages/seaborn/distributions.py:2619: FutureWarning: `distplot` is a deprecated function and will be removed in a future version. Please adapt your code to use either `displot` (a figure-level function with similar flexibility) or `histplot` (an axes-level function for histograms).\n",
      "  warnings.warn(msg, FutureWarning)\n"
     ]
    },
    {
     "data": {
      "text/plain": [
       "<AxesSubplot:xlabel='Total Renewals'>"
      ]
     },
     "execution_count": 73,
     "metadata": {},
     "output_type": "execute_result"
    },
    {
     "data": {
      "image/png": "[encoded data removed]",
      "text/plain": [
       "<Figure size 432x288 with 1 Axes>"
      ]
     },
     "metadata": {},
     "output_type": "display_data"
    }
   ],
   "source": [
    "# Histogram\n",
    "\n",
    "sns.distplot(df['Total Renewals'], kde=False)"
   ]
  },
  {
   "cell_type": "code",
   "execution_count": 74,
   "id": "1f563c6c",
   "metadata": {},
   "outputs": [
    {
     "data": {
      "text/plain": [
       "<AxesSubplot:xlabel='Total Renewals', ylabel='Density'>"
      ]
     },
     "execution_count": 74,
     "metadata": {},
     "output_type": "execute_result"
    },
    {
     "data": {
      "image/png": "[encoded data removed]",
      "text/plain": [
       "<Figure size 432x288 with 1 Axes>"
      ]
     },
     "metadata": {},
     "output_type": "display_data"
    }
   ],
   "source": [
    "# With density estimation\n",
    "\n",
    "sns.distplot(df['Total Renewals'], kde=True)"
   ]
  },
  {
   "cell_type": "code",
   "execution_count": 75,
   "id": "962f1b04",
   "metadata": {},
   "outputs": [
    {
     "name": "stderr",
     "output_type": "stream",
     "text": [
      "/home/michael/anaconda3/lib/python3.9/site-packages/seaborn/categorical.py:1296: UserWarning: 47.1% of the points cannot be placed; you may want to decrease the size of the markers or use stripplot.\n",
      "  warnings.warn(msg, UserWarning)\n",
      "/home/michael/anaconda3/lib/python3.9/site-packages/seaborn/categorical.py:1296: UserWarning: 20.0% of the points cannot be placed; you may want to decrease the size of the markers or use stripplot.\n",
      "  warnings.warn(msg, UserWarning)\n",
      "/home/michael/anaconda3/lib/python3.9/site-packages/seaborn/categorical.py:1296: UserWarning: 12.9% of the points cannot be placed; you may want to decrease the size of the markers or use stripplot.\n",
      "  warnings.warn(msg, UserWarning)\n",
      "/home/michael/anaconda3/lib/python3.9/site-packages/seaborn/categorical.py:1296: UserWarning: 22.2% of the points cannot be placed; you may want to decrease the size of the markers or use stripplot.\n",
      "  warnings.warn(msg, UserWarning)\n",
      "/home/michael/anaconda3/lib/python3.9/site-packages/seaborn/categorical.py:1296: UserWarning: 34.8% of the points cannot be placed; you may want to decrease the size of the markers or use stripplot.\n",
      "  warnings.warn(msg, UserWarning)\n",
      "/home/michael/anaconda3/lib/python3.9/site-packages/seaborn/categorical.py:1296: UserWarning: 39.7% of the points cannot be placed; you may want to decrease the size of the markers or use stripplot.\n",
      "  warnings.warn(msg, UserWarning)\n",
      "/home/michael/anaconda3/lib/python3.9/site-packages/seaborn/categorical.py:1296: UserWarning: 65.2% of the points cannot be placed; you may want to decrease the size of the markers or use stripplot.\n",
      "  warnings.warn(msg, UserWarning)\n",
      "/home/michael/anaconda3/lib/python3.9/site-packages/seaborn/categorical.py:1296: UserWarning: 65.5% of the points cannot be placed; you may want to decrease the size of the markers or use stripplot.\n",
      "  warnings.warn(msg, UserWarning)\n",
      "/home/michael/anaconda3/lib/python3.9/site-packages/seaborn/categorical.py:1296: UserWarning: 75.3% of the points cannot be placed; you may want to decrease the size of the markers or use stripplot.\n",
      "  warnings.warn(msg, UserWarning)\n",
      "/home/michael/anaconda3/lib/python3.9/site-packages/seaborn/categorical.py:1296: UserWarning: 80.7% of the points cannot be placed; you may want to decrease the size of the markers or use stripplot.\n",
      "  warnings.warn(msg, UserWarning)\n",
      "/home/michael/anaconda3/lib/python3.9/site-packages/seaborn/categorical.py:1296: UserWarning: 82.1% of the points cannot be placed; you may want to decrease the size of the markers or use stripplot.\n",
      "  warnings.warn(msg, UserWarning)\n",
      "/home/michael/anaconda3/lib/python3.9/site-packages/seaborn/categorical.py:1296: UserWarning: 85.8% of the points cannot be placed; you may want to decrease the size of the markers or use stripplot.\n",
      "  warnings.warn(msg, UserWarning)\n",
      "/home/michael/anaconda3/lib/python3.9/site-packages/seaborn/categorical.py:1296: UserWarning: 75.8% of the points cannot be placed; you may want to decrease the size of the markers or use stripplot.\n",
      "  warnings.warn(msg, UserWarning)\n"
     ]
    },
    {
     "data": {
      "text/plain": [
       "<seaborn.axisgrid.FacetGrid at 0x7f5d028afc40>"
      ]
     },
     "execution_count": 75,
     "metadata": {},
     "output_type": "execute_result"
    },
    {
     "data": {
      "image/png": "[encoded data removed]",
      "text/plain": [
       "<Figure size 1440x360 with 1 Axes>"
      ]
     },
     "metadata": {},
     "output_type": "display_data"
    }
   ],
   "source": [
    "# Swarmplot\n",
    "\n",
    "sns.catplot(x='Year Patron Registered', y = 'Total Renewals',\n",
    "            data=df, kind='swarm', color=\"steelblue\", aspect=4)"
   ]
  },
  {
   "cell_type": "code",
   "execution_count": 76,
   "id": "190cab84",
   "metadata": {},
   "outputs": [
    {
     "data": {
      "text/plain": [
       "<seaborn.axisgrid.FacetGrid at 0x7f5d04a198e0>"
      ]
     },
     "execution_count": 76,
     "metadata": {},
     "output_type": "execute_result"
    },
    {
     "data": {
      "image/png": "[encoded data removed]",
      "text/plain": [
       "<Figure size 20160x360 with 14 Axes>"
      ]
     },
     "metadata": {},
     "output_type": "display_data"
    }
   ],
   "source": [
    "# Boxplot\n",
    "\n",
    "sns.catplot(col='Year Patron Registered', y = 'Total Renewals',\n",
    "            data=df, kind='box', color=\"steelblue\", aspect=4)"
   ]
  },
  {
   "cell_type": "code",
   "execution_count": 77,
   "id": "c559d714",
   "metadata": {},
   "outputs": [
    {
     "data": {
      "text/plain": [
       "Index(['Patron Type Code', 'Patron Type Definition', 'Total Checkouts',\n",
       "       'Total Renewals', 'Age Range', 'Home Library Code',\n",
       "       'Home Library Definition', 'Circulation Active Month',\n",
       "       'Circulation Active Year', 'Notice Preference Code',\n",
       "       'Notice Preference Definition', 'Provided Email Address',\n",
       "       'Year Patron Registered', 'Outside of County', 'Supervisor District'],\n",
       "      dtype='object')"
      ]
     },
     "execution_count": 77,
     "metadata": {},
     "output_type": "execute_result"
    }
   ],
   "source": [
    "df.keys()"
   ]
  },
  {
   "cell_type": "code",
   "execution_count": 97,
   "id": "f9746e69",
   "metadata": {},
   "outputs": [
    {
     "name": "stdout",
     "output_type": "stream",
     "text": [
      "0.7410177291982637\n"
     ]
    }
   ],
   "source": [
    "import pandas as pd\n",
    "import seaborn as sns\n",
    "import matplotlib.pyplot as plt\n",
    "import numpy as np\n",
    "# matplotlib inline\n",
    "sns.set()\n",
    "\n",
    "df = pd.read_csv(\"../data/Library_Usage.csv\")\n",
    "x = df[(df['Age Range'] == \"0 to 9 years\") & (df['Provided Email Address'] == True)].shape[0]\n",
    "y = df[(df['Age Range'] == \"0 to 9 years\")].shape[0]\n",
    "print(x/y)"
   ]
  },
  {
   "cell_type": "code",
   "execution_count": 98,
   "id": "fc54985c",
   "metadata": {},
   "outputs": [
    {
     "name": "stdout",
     "output_type": "stream",
     "text": [
      "0.4     9.0\n",
      "0.6    39.0\n",
      "Name: Total Checkouts, dtype: float64\n"
     ]
    }
   ],
   "source": [
    "alpha = 0.4\n",
    "quantile = df['Total Checkouts'].quantile([alpha, 1-alpha])\n",
    "print(quantile)"
   ]
  },
  {
   "cell_type": "code",
   "execution_count": 99,
   "id": "43741ae6",
   "metadata": {},
   "outputs": [
    {
     "name": "stdout",
     "output_type": "stream",
     "text": [
      "40.5\n"
     ]
    }
   ],
   "source": [
    "IQR=(df['Total Renewals'].quantile(q=0.75) - df['Total Renewals'].quantile(q=0.25))*1.5\n",
    "print(IQR)"
   ]
  },
  {
   "cell_type": "code",
   "execution_count": 100,
   "id": "901f6d6b",
   "metadata": {},
   "outputs": [
    {
     "data": {
      "text/plain": [
       "0.25     NaN\n",
       "0.75    27.0\n",
       "Name: Total Renewals, dtype: float64"
      ]
     },
     "execution_count": 100,
     "metadata": {},
     "output_type": "execute_result"
    }
   ],
   "source": [
    "df['Total Renewals'].quantile([0.25, 0.75]).diff()"
   ]
  },
  {
   "cell_type": "code",
   "execution_count": 101,
   "id": "c9431eea",
   "metadata": {},
   "outputs": [
    {
     "data": {
      "text/plain": [
       "0    25 to 34 years\n",
       "dtype: object"
      ]
     },
     "execution_count": 101,
     "metadata": {},
     "output_type": "execute_result"
    }
   ],
   "source": [
    "df['Age Range'].mode()"
   ]
  },
  {
   "cell_type": "code",
   "execution_count": 102,
   "id": "7de692a6",
   "metadata": {},
   "outputs": [
    {
     "data": {
      "text/plain": [
       "39.0"
      ]
     },
     "execution_count": 102,
     "metadata": {},
     "output_type": "execute_result"
    }
   ],
   "source": [
    "df['Total Checkouts'].quantile(0.60)"
   ]
  },
  {
   "cell_type": "code",
   "execution_count": null,
   "id": "1c7e3bbf",
   "metadata": {},
   "outputs": [],
   "source": []
  }
 ],
 "metadata": {
  "kernelspec": {
   "display_name": "Python 3 (ipykernel)",
   "language": "python",
   "name": "python3"
  },
  "language_info": {
   "codemirror_mode": {
    "name": "ipython",
    "version": 3
   },
   "file_extension": ".py",
   "mimetype": "text/x-python",
   "name": "python",
   "nbconvert_exporter": "python",
   "pygments_lexer": "ipython3",
   "version": "3.9.7"
  }
 },
 "nbformat": 4,
 "nbformat_minor": 5
}
