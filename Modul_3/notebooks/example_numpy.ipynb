{
 "cells": [
  {
   "cell_type": "code",
   "execution_count": 3,
   "id": "48e3fe6f",
   "metadata": {},
   "outputs": [
    {
     "name": "stdout",
     "output_type": "stream",
     "text": [
      "[ 1.01128475  0.18048672  0.33304353 -0.15853086  0.93664355 -1.11322025\n",
      " -0.26081599  0.2630074  -0.7245577   0.35967463  1.4152604  -0.27977878\n",
      "  0.15634743  2.96661537 -1.79355531  1.59708186 -0.12095173 -1.76682068\n",
      " -0.88969115  0.55304149 -0.75649514  0.93720031  0.12446847 -0.81126729\n",
      "  0.25329544 -0.62390406  1.478497    0.62904299  1.33206434  0.04097081\n",
      " -0.48774038 -1.2798883   0.1081341  -1.58332476  0.80783996 -1.36924132\n",
      "  0.30888441 -1.27138039 -1.10796803  1.39567481  1.77337681  1.68486095\n",
      " -1.45580252  1.82009156 -0.68872043  0.55162257  0.98670277  0.56118989\n",
      "  0.32482391  0.27643358  1.87171264 -1.04309251  1.7346973  -1.40065302\n",
      "  1.80042926 -1.50120362 -1.16526239  0.70767781 -1.326766   -0.37989068\n",
      " -0.48294403  1.02298699 -0.31734285 -1.23740939 -0.00761855  3.24541549\n",
      " -1.80601647 -0.80453994  0.11502576  0.27127394  0.13005734 -0.48271409\n",
      " -0.28634992 -1.19832072 -0.04407436  0.06359648  0.8032118  -0.41052141\n",
      "  0.70857881 -1.07284167 -0.76616688  0.58708636  1.29169731 -0.4505134\n",
      "  0.34223415 -0.58309337  1.14559016 -1.63533146 -0.07424636  0.1825524\n",
      " -1.44816196 -1.19127815 -0.3590201   0.53340322 -0.66485884  0.64208968\n",
      " -0.70617018 -0.54529431  0.01535126  1.99712602]\n"
     ]
    },
    {
     "data": {
      "text/plain": [
       "114.77288819484325"
      ]
     },
     "execution_count": 3,
     "metadata": {},
     "output_type": "execute_result"
    }
   ],
   "source": [
    "# import the library and give it a shorter name 'np'\n",
    "import numpy as np\n",
    "\n",
    "# create 100 randomly distributed numbers\n",
    "X = np.random.normal(size=100)\n",
    "\n",
    "print(X)\n",
    "\n",
    "# transform X into a 2-dimensional array of size 20x5\n",
    "X.reshape((20, 5))\n",
    "\n",
    "# calculate the matrix dot product: X*X', where X' is the transpose of X\n",
    "X.dot(X.T)"
   ]
  },
  {
   "cell_type": "code",
   "execution_count": 18,
   "id": "c07a1d41",
   "metadata": {},
   "outputs": [
    {
     "name": "stdout",
     "output_type": "stream",
     "text": [
      "[1 2 3 4]\n",
      "[[1 2]\n",
      " [3 4]]\n",
      "[[1 3]\n",
      " [2 4]]\n"
     ]
    },
    {
     "data": {
      "text/plain": [
       "30"
      ]
     },
     "execution_count": 18,
     "metadata": {},
     "output_type": "execute_result"
    }
   ],
   "source": [
    "# create 4 randomly distributed numbers\n",
    "# Y = np.random.normal(size=4)\n",
    "\n",
    "# create 4 incremental numbers\n",
    "Y = np.array([1, 2, 3, 4])\n",
    "print(Y)\n",
    "\n",
    "# transform Y into a 2-dimensional array of size 2x2\n",
    "# -> happens in-place and does nothing here -> output to variable Y_ for further use\n",
    "Y_ = Y.reshape((2, 2))\n",
    "print(Y_)\n",
    "YT = Y_.transpose()\n",
    "print(YT)\n",
    "\n",
    "# calculate the matrix dot product: Y*Y', where Y' is the transpose of Y\n",
    "Y.dot(Y.T)\n",
    "# -> = 1x1 + 2x2 + 3x3 + 4x4\n",
    "# -> a1xb1 + a2xb2 + a3xb3 + a4xb4 + ..."
   ]
  },
  {
   "cell_type": "code",
   "execution_count": null,
   "id": "731d87fd",
   "metadata": {},
   "outputs": [],
   "source": []
  }
 ],
 "metadata": {
  "kernelspec": {
   "display_name": "Python 3 (ipykernel)",
   "language": "python",
   "name": "python3"
  },
  "language_info": {
   "codemirror_mode": {
    "name": "ipython",
    "version": 3
   },
   "file_extension": ".py",
   "mimetype": "text/x-python",
   "name": "python",
   "nbconvert_exporter": "python",
   "pygments_lexer": "ipython3",
   "version": "3.9.7"
  }
 },
 "nbformat": 4,
 "nbformat_minor": 5
}
