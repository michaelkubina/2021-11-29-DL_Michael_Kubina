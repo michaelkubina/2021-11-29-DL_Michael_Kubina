{
 "cells": [
  {
   "cell_type": "code",
   "execution_count": 1,
   "id": "d20f1f5d",
   "metadata": {},
   "outputs": [],
   "source": [
    "import urllib.request\n",
    "import pandas as pd\n",
    "import os.path"
   ]
  },
  {
   "cell_type": "markdown",
   "id": "ee195f3a",
   "metadata": {},
   "source": [
    "# Wie haben sich die Ausleihzahlen von EBOOKs im Vergleich zu BOOKs in den letzten zehn Jahren entwickelt?"
   ]
  },
  {
   "cell_type": "markdown",
   "id": "5ba37126",
   "metadata": {},
   "source": [
    "## Step 1: Retrieve the raw data"
   ]
  },
  {
   "cell_type": "code",
   "execution_count": 2,
   "id": "006877fe",
   "metadata": {},
   "outputs": [
    {
     "name": "stdout",
     "output_type": "stream",
     "text": [
      "Retrieving: \thttps://data.seattle.gov/resource/tmmm-ytt6.csv?$where=checkoutyear=2011&$limit=10000\n",
      "Writing: \tcheckout_2011.csv\n",
      "Done\n",
      "\n",
      "Retrieving: \thttps://data.seattle.gov/resource/tmmm-ytt6.csv?$where=checkoutyear=2012&$limit=10000\n",
      "Writing: \tcheckout_2012.csv\n",
      "Done\n",
      "\n",
      "Retrieving: \thttps://data.seattle.gov/resource/tmmm-ytt6.csv?$where=checkoutyear=2013&$limit=10000\n",
      "Writing: \tcheckout_2013.csv\n",
      "Done\n",
      "\n",
      "Retrieving: \thttps://data.seattle.gov/resource/tmmm-ytt6.csv?$where=checkoutyear=2014&$limit=10000\n",
      "Writing: \tcheckout_2014.csv\n",
      "Done\n",
      "\n",
      "Retrieving: \thttps://data.seattle.gov/resource/tmmm-ytt6.csv?$where=checkoutyear=2015&$limit=10000\n",
      "Writing: \tcheckout_2015.csv\n",
      "Done\n",
      "\n",
      "Retrieving: \thttps://data.seattle.gov/resource/tmmm-ytt6.csv?$where=checkoutyear=2016&$limit=10000\n",
      "Writing: \tcheckout_2016.csv\n",
      "Done\n",
      "\n",
      "Retrieving: \thttps://data.seattle.gov/resource/tmmm-ytt6.csv?$where=checkoutyear=2017&$limit=10000\n",
      "Writing: \tcheckout_2017.csv\n",
      "Done\n",
      "\n",
      "Retrieving: \thttps://data.seattle.gov/resource/tmmm-ytt6.csv?$where=checkoutyear=2018&$limit=10000\n",
      "Writing: \tcheckout_2018.csv\n",
      "Done\n",
      "\n",
      "Retrieving: \thttps://data.seattle.gov/resource/tmmm-ytt6.csv?$where=checkoutyear=2019&$limit=10000\n",
      "Writing: \tcheckout_2019.csv\n",
      "Done\n",
      "\n",
      "Retrieving: \thttps://data.seattle.gov/resource/tmmm-ytt6.csv?$where=checkoutyear=2020&$limit=10000\n",
      "Writing: \tcheckout_2020.csv\n",
      "Done\n",
      "\n"
     ]
    }
   ],
   "source": [
    "# range(n, n-1) erzeugt eine sequenz von n bis n-1\n",
    "# str() notwendig für concat von integer mit string, da datentypen angeglichen werden müssen\n",
    "for i in range(2011,2021):\n",
    "    url = \"https://data.seattle.gov/resource/tmmm-ytt6.csv?$where=checkoutyear=\" + str(i) + \"&$limit=10000\"\n",
    "    checkout_file = \"checkout_\" + str(i) + \".csv\"\n",
    "    print(\"Retrieving: \\t\" + url)\n",
    "    print(\"Writing: \\t\" + checkout_file)\n",
    "    if not os.path.isFile(checkout_file):\n",
    "        urllib.request.urlretrieve(url, checkout_file)\n",
    "        print(\"Done\\n\")\n",
    "    else\n",
    "        print(\"Skipped! File already exists!\\n\")"
   ]
  },
  {
   "cell_type": "markdown",
   "id": "a0b7c295",
   "metadata": {},
   "source": [
    "## Step 2: Transform into Dataframes"
   ]
  },
  {
   "cell_type": "code",
   "execution_count": null,
   "id": "877f41e0",
   "metadata": {},
   "outputs": [],
   "source": []
  }
 ],
 "metadata": {
  "kernelspec": {
   "display_name": "Python 3 (ipykernel)",
   "language": "python",
   "name": "python3"
  },
  "language_info": {
   "codemirror_mode": {
    "name": "ipython",
    "version": 3
   },
   "file_extension": ".py",
   "mimetype": "text/x-python",
   "name": "python",
   "nbconvert_exporter": "python",
   "pygments_lexer": "ipython3",
   "version": "3.9.7"
  }
 },
 "nbformat": 4,
 "nbformat_minor": 5
}
