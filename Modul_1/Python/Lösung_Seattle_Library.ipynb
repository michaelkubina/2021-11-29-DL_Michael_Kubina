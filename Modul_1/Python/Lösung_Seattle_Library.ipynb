{
 "cells": [
  {
   "cell_type": "code",
   "execution_count": 1,
   "id": "d20f1f5d",
   "metadata": {},
   "outputs": [],
   "source": [
    "import urllib.request\n",
    "import pandas as pd\n",
    "import matplotlib.pyplot as plt"
   ]
  },
  {
   "cell_type": "markdown",
   "id": "ee195f3a",
   "metadata": {},
   "source": [
    "# Lösung 1: Wie haben sich die Ausleihzahlen von EBOOKs im Vergleich zu BOOKs in den letzten zehn Jahren entwickelt?"
   ]
  },
  {
   "cell_type": "markdown",
   "id": "5ba37126",
   "metadata": {},
   "source": [
    "## Step 1: Retrieve the datasets"
   ]
  },
  {
   "cell_type": "code",
   "execution_count": null,
   "id": "006877fe",
   "metadata": {},
   "outputs": [
    {
     "name": "stdout",
     "output_type": "stream",
     "text": [
      "Retrieving: \thttps://data.seattle.gov/resource/tmmm-ytt6.csv?$where=checkoutyear=2011&$limit=10000\n",
      "Writing: \tcheckout_2011.csv\n",
      "Done\n",
      "\n",
      "Retrieving: \thttps://data.seattle.gov/resource/tmmm-ytt6.csv?$where=checkoutyear=2012&$limit=10000\n",
      "Writing: \tcheckout_2012.csv\n",
      "Done\n",
      "\n",
      "Retrieving: \thttps://data.seattle.gov/resource/tmmm-ytt6.csv?$where=checkoutyear=2013&$limit=10000\n",
      "Writing: \tcheckout_2013.csv\n",
      "Done\n",
      "\n",
      "Retrieving: \thttps://data.seattle.gov/resource/tmmm-ytt6.csv?$where=checkoutyear=2014&$limit=10000\n",
      "Writing: \tcheckout_2014.csv\n",
      "Done\n",
      "\n",
      "Retrieving: \thttps://data.seattle.gov/resource/tmmm-ytt6.csv?$where=checkoutyear=2015&$limit=10000\n",
      "Writing: \tcheckout_2015.csv\n",
      "Done\n",
      "\n",
      "Retrieving: \thttps://data.seattle.gov/resource/tmmm-ytt6.csv?$where=checkoutyear=2016&$limit=10000\n",
      "Writing: \tcheckout_2016.csv\n"
     ]
    }
   ],
   "source": [
    "# wieviele zeilen pro jahr?\n",
    "limit = 10000\n",
    "\n",
    "# range(n, n-1) erzeugt eine sequenz von n bis n-1\n",
    "# str() notwendig für concat von integer mit string, da datentypen angeglichen werden müssen\n",
    "for i in range(2011,2021):\n",
    "    url = \"https://data.seattle.gov/resource/tmmm-ytt6.csv?$where=checkoutyear=\" + str(i) + \"&$limit=\" + str(limit)\n",
    "    print(\"Retrieving: \\t\" + url)\n",
    "    \n",
    "    checkout_file = \"checkout_\" + str(i) + \".csv\"\n",
    "    print(\"Writing: \\t\" + checkout_file)\n",
    "    \n",
    "    urllib.request.urlretrieve(url, checkout_file)\n",
    "    print(\"Done\\n\")"
   ]
  },
  {
   "cell_type": "markdown",
   "id": "d1e684ac",
   "metadata": {},
   "source": [
    "## Step 2: Transform into dataframe"
   ]
  },
  {
   "cell_type": "code",
   "execution_count": null,
   "id": "a75e33cc",
   "metadata": {},
   "outputs": [],
   "source": [
    "# leeren Dataframe erzeugen\n",
    "checkouts_df = pd.DataFrame()\n",
    "\n",
    "# gehe über alle Datasets und vereine sie in ein großes Dataframe\n",
    "for i in range(2011,2021):\n",
    "    checkout_file = \"checkout_\" + str(i) + \".csv\"\n",
    "    \n",
    "    # temporäres Dataframe aus Dataset erzeugen\n",
    "    print(\"Generating dataframe for: \\t\" + checkout_file)\n",
    "    temp_df = pd.read_csv(checkout_file)\n",
    "    \n",
    "    \n",
    "    # jedes temporäre Dataframe wird an das Gesamt-Dataframe drangehängt\n",
    "    print(\"Add \" + str(len(temp_df)) + \" rows to aggregated dataframe\")\n",
    "    checkouts_df = pd.concat([checkouts_df,temp_df])\n",
    "    \n",
    "    print(\"Done\\n\")\n",
    "    \n",
    "print(\"Aggregated Dataframe has \" + str(len(checkouts_df)) + \" rows\")"
   ]
  },
  {
   "cell_type": "code",
   "execution_count": null,
   "id": "b3574e0c",
   "metadata": {},
   "outputs": [],
   "source": [
    "checkouts_df"
   ]
  },
  {
   "cell_type": "markdown",
   "id": "c5c3ede3",
   "metadata": {},
   "source": [
    "## Step 3: Visualize"
   ]
  },
  {
   "cell_type": "code",
   "execution_count": null,
   "id": "af11d4dc",
   "metadata": {},
   "outputs": [],
   "source": [
    "checkouts_ebook_df = checkouts_df[checkouts_df[\"materialtype\"] == \"EBOOK\"]\n",
    "checkouts_ebook_final_df = checkouts_ebook_df.groupby(by=\"checkoutyear\").sum()\n",
    "checkouts_ebook_final_df[\"checkouts\"].plot(kind=\"bar\")"
   ]
  },
  {
   "cell_type": "code",
   "execution_count": null,
   "id": "74c2ecf3",
   "metadata": {},
   "outputs": [],
   "source": [
    "checkouts_book_df = checkouts_df[checkouts_df[\"materialtype\"] == \"BOOK\"]\n",
    "checkouts_book_final_df = checkouts_book_df.groupby(by=\"checkoutyear\").sum()\n",
    "checkouts_book_final_df[\"checkouts\"].plot(kind=\"bar\")"
   ]
  },
  {
   "cell_type": "markdown",
   "id": "8f40cabe",
   "metadata": {},
   "source": [
    "## Extra-Step 4: Lets look at all materialtypes at once ;-)"
   ]
  },
  {
   "cell_type": "code",
   "execution_count": null,
   "id": "6050742d",
   "metadata": {},
   "outputs": [],
   "source": [
    "%matplotlib inline\n",
    "\n",
    "# ermittle alle materialtypen\n",
    "materialtype_list = checkouts_df[\"materialtype\"].unique()\n",
    "\n",
    "# gehe in schleife durch alle materialtypen\n",
    "for materialtype in materialtype_list:\n",
    "    # filtere aus Dataframe nur den aktuellen materialtyp und mach die selbe Magie wie oben\n",
    "    checkouts_materialtype_df = checkouts_df[checkouts_df[\"materialtype\"] == materialtype]\n",
    "    checkouts_materialtype_final_df = checkouts_materialtype_df.groupby(by=\"checkoutyear\").sum()\n",
    "    checkouts_materialtype_final_df[\"checkouts\"].plot(kind=\"bar\")\n",
    "    \n",
    "    # zeige sofort den Plot inklusive Titel\n",
    "    plt.title(materialtype)\n",
    "    plt.show()"
   ]
  },
  {
   "cell_type": "markdown",
   "id": "ce26d429",
   "metadata": {},
   "source": [
    "# Lösung 2: TOP-X Titel"
   ]
  },
  {
   "cell_type": "code",
   "execution_count": null,
   "id": "a1a5d829",
   "metadata": {},
   "outputs": [],
   "source": [
    "# Wie viele TOP?\n",
    "top = 5\n",
    "# Welche Materialtypen? -> Achtung, muss vollständigen Zeitraum abdecken, damit's funktioniert\n",
    "materialtype_top_list = [\"EBOOK\", \"BOOK\", \"AUDIOBOOK\"]\n",
    "\n",
    "# gehe durch alle vorgegebenen Materialtypen\n",
    "for materialtype in materialtype_top_list:\n",
    "    # gehe durch alle Jahre\n",
    "    for year in range(2011,2021):\n",
    "        print(\"TOP \" + str(top) + \" \" + materialtype + \"s aus \" + str(year) + \"\\n\")\n",
    "        # wir brauchen nur die ersten x -> head()\n",
    "        checkouts_temp_df = checkouts_df[(checkouts_df[\"checkoutyear\"] == year) & (checkouts_df[\"materialtype\"] == materialtype)].sort_values(\"checkouts\", ascending=False).head(top)\n",
    "        # liste die TOP-X Titel auf\n",
    "        for i in range(0,top):\n",
    "            print(\"\\t- TOP \" + str(i+1) + \": \" + checkouts_temp_df[\"title\"].iloc[i])\n",
    "        print(\"\\n\")\n",
    "        \n",
    "        checkouts_temp_df.plot.barh(x=\"title\", y=\"checkouts\").invert_yaxis()\n",
    "        plt.show()\n",
    "    print(\"------------------------------------------------------------------\\n\")"
   ]
  },
  {
   "cell_type": "markdown",
   "id": "88f99165",
   "metadata": {},
   "source": [
    "# Lösung 3: Für wieviel % der Ausleihen in dieser Mediengruppe sind diese TOP-X-Titel verantwortlich?"
   ]
  },
  {
   "cell_type": "code",
   "execution_count": null,
   "id": "6f19c566",
   "metadata": {},
   "outputs": [],
   "source": [
    "# diesmal die top 10\n",
    "top = 10\n",
    "\n",
    "# temporary sum for the checkout of the top-x titles\n",
    "sum_topx_temp = 0\n",
    "\n",
    "# gehe erneut durch alle vorgegebenen Materialtypen\n",
    "for materialtype in materialtype_top_list:\n",
    "    # gehe erneut durch alle Jahre\n",
    "    for year in range(2011,2021):\n",
    "        print(\"Prozentualer Anteil der TOP \" + str(top) + \" \" + materialtype + \"s aus \" + str(year) + \" an Gesamtausleihen in dieser Mediengruppe\\n\")\n",
    "        # wir brauchen das gesamte set -> kein head()\n",
    "        checkouts_temp_df = checkouts_df[(checkouts_df[\"checkoutyear\"] == year) & (checkouts_df[\"materialtype\"] == materialtype)].sort_values(\"checkouts\", ascending=False)\n",
    "        # liste die TOP-X Titel auf\n",
    "        for i in range(0,top):\n",
    "            # kumulierte ausleihen der top-x\n",
    "            sum_topx_temp += checkouts_temp_df[\"checkouts\"].iloc[i]\n",
    "        # summe aller ausleihen der materialgruppe\n",
    "        sum_checkouts_temp = checkouts_temp_df[\"checkouts\"].sum()\n",
    "        # prozentuales verhältnis zu gesamtausleihen\n",
    "        #print(sum_topx_temp)\n",
    "        #print(sum_checkouts_temp)\n",
    "        percentage = (sum_topx_temp / sum_checkouts_temp) * 100\n",
    "        #print(percentage)\n",
    "        # reset sum_topx_temp\n",
    "        sum_topx_temp = 0\n",
    "        # mache Tortendiagram\n",
    "        labels = 'Top ' + str(top) + ' ' + materialtype + 's', 'Restliche ' + materialtype + 's'\n",
    "        sizes = [percentage.round(1), 100-percentage.round(1)]\n",
    "        explode = (0.2, 0)\n",
    "        fig, chart = plt.subplots()\n",
    "        chart.pie(sizes, explode=explode, labels=labels, autopct='%1.1f%%', shadow=True, startangle=90)\n",
    "        chart.axis('equal')\n",
    "        plt.show()\n",
    "    print(\"------------------------------------------------------------------\\n\")"
   ]
  },
  {
   "cell_type": "code",
   "execution_count": null,
   "id": "7c4c3e61",
   "metadata": {},
   "outputs": [],
   "source": []
  }
 ],
 "metadata": {
  "kernelspec": {
   "display_name": "Python 3 (ipykernel)",
   "language": "python",
   "name": "python3"
  },
  "language_info": {
   "codemirror_mode": {
    "name": "ipython",
    "version": 3
   },
   "file_extension": ".py",
   "mimetype": "text/x-python",
   "name": "python",
   "nbconvert_exporter": "python",
   "pygments_lexer": "ipython3",
   "version": "3.9.7"
  }
 },
 "nbformat": 4,
 "nbformat_minor": 5
}
